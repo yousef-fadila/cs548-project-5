{
 "cells": [
  {
   "cell_type": "markdown",
   "metadata": {
    "collapsed": true
   },
   "source": [
    "# Project 5 : CS548 - Text Mining: Spot Deceptive TripAdvisor Hotel's Reviews\n",
    "\n",
    "** http://web.cs.wpi.edu/~cs548/f16/Projects/Project5/ **\n",
    "\n",
    "** Notebook URL: https://github.com/yousef-fadila/cs548-project-5/blob/master/notebook.ipynb ** \n",
    "\n",
    "** By: Yousef Fadila ** "
   ]
  },
  {
   "cell_type": "markdown",
   "metadata": {},
   "source": [
    "# Guiding Quesions:\n",
    "\n",
    "1) which is more prevalent, positive deceptive or negative deceptive? what is the deceptive ratio among the truthful reviews?\n",
    "\n",
    "2) who are the top ten hotels with deceptive positive reviews? Is deceptive positive reviews ratio is common in specific hotels star rating? \n",
    "\n",
    "3) what are the common review sequences followed by deceptive positive reviews? In particular do deceptive positive reviews are used to cover on previous truthful negative reviews? \n",
    " \n",
    "4) would a 2-steps approach based on domain knowledge (like the one presented on anomaly detection showcase) improves the accuracy of the model? "
   ]
  },
  {
   "cell_type": "markdown",
   "metadata": {},
   "source": [
    "Training data:\n",
    "-- Deceptive Opinion Spam Corpus v1.4 - downloaded from http://myleott.com/op_spam/\n",
    "\n",
    "Examination data:\n",
    "--  TripAdvisor reviews downloaded from http://myleott.com/op_spam/"
   ]
  },
  {
   "cell_type": "code",
   "execution_count": 814,
   "metadata": {
    "collapsed": true
   },
   "outputs": [],
   "source": [
    "# Global Import\n",
    "import sys\n",
    "from sklearn.feature_extraction.text import TfidfVectorizer\n",
    "from sklearn.svm import LinearSVC\n",
    "from sklearn.datasets import load_files\n",
    "from sklearn.model_selection import train_test_split\n",
    "from sklearn import metrics\n",
    "import pandas as pd\n",
    "import numpy as np\n",
    "import matplotlib.pylab as py\n",
    "import matplotlib.pyplot as plt\n",
    "import scipy\n",
    "from IPython.display import HTML\n",
    "from datetime import datetime, date, time\n",
    "from sklearn.svm import LinearSVC\n",
    "lastRunTime = datetime.now().strftime('%Y-%m-%d %H:%M:%S')\n",
    "import re\n",
    "from sklearn import tree\n",
    "import json\n",
    "%matplotlib inline"
   ]
  },
  {
   "cell_type": "code",
   "execution_count": 815,
   "metadata": {
    "collapsed": false
   },
   "outputs": [
    {
     "name": "stdout",
     "output_type": "stream",
     "text": [
      "n_samples: 1602\n",
      "Done: 2016-12-05 03:40:44\n"
     ]
    }
   ],
   "source": [
    "# load training data: load Deceptive Opinion Spam Corpus\n",
    "dataset = load_files('training-data', encoding='utf-8', decode_error='replace',shuffle=False)\n",
    "print(\"n_samples: %d\" % len(dataset.data))\n",
    "\n",
    "print(\"Done: \" + lastRunTime)"
   ]
  },
  {
   "cell_type": "code",
   "execution_count": 824,
   "metadata": {
    "collapsed": false
   },
   "outputs": [
    {
     "name": "stdout",
     "output_type": "stream",
     "text": [
      "Xtrain:(1441, 22440)\n",
      "Xtest:(161, 22440)\n",
      "Done: 2016-12-05 03:40:44\n"
     ]
    }
   ],
   "source": [
    "# split the dataset in training and test set:\n",
    "docs_train, docs_test, y_train, y_test = train_test_split(\n",
    "    dataset.data, dataset.target, test_size=0.10, random_state=None)\n",
    "min_df=3\n",
    "max_df=0.96\n",
    "# ngram (1,3) gives better percsion than 1,2 and 1,4 doesn't improve accuracy. \n",
    "ngram_range = (1,3) \n",
    "TfidfVect= TfidfVectorizer(min_df = min_df, max_df = max_df, ngram_range = ngram_range).fit(docs_train)\n",
    "Xtrain = TfidfVect.transform(docs_train).toarray()\n",
    "print(\"Xtrain:\" + str(Xtrain.shape))\n",
    "Xtest = TfidfVect.transform(docs_test).toarray()\n",
    "print(\"Xtest:\" + str(Xtest.shape))\n",
    "\n",
    "#clf = tree.DecisionTreeClassifier()\n",
    "clf  = LinearSVC(C=1000)\n",
    "\n",
    "clf.fit(Xtrain, y_train)\n",
    "y_predicted = clf.predict(Xtest)\n",
    "\n",
    "print(\"Done: \" + lastRunTime)"
   ]
  },
  {
   "cell_type": "code",
   "execution_count": 825,
   "metadata": {
    "collapsed": false,
    "scrolled": false
   },
   "outputs": [
    {
     "name": "stdout",
     "output_type": "stream",
     "text": [
      "**Classification Report**\n",
      "\n",
      "                    precision    recall  f1-score   support\n",
      "\n",
      "negative_deceptive       0.92      0.81      0.86        42\n",
      " negative_truthful       0.83      0.88      0.85        40\n",
      "positive_deceptive       0.81      0.98      0.89        44\n",
      " positive_truthful       0.93      0.77      0.84        35\n",
      "\n",
      "       avg / total       0.87      0.86      0.86       161\n",
      "\n",
      "**Confusion Matrix**\n",
      "\n",
      "[[34  6  2  0]\n",
      " [ 3 35  1  1]\n",
      " [ 0  0 43  1]\n",
      " [ 0  1  7 27]]\n",
      "0: negative_deceptive  1: negative_truthful\n",
      "2: positive_deceptive  3: positive_truthful\n"
     ]
    },
    {
     "data": {
      "image/png": "[encoded data removed]",
      "text/plain": [
       "<matplotlib.figure.Figure at 0x222048d1b38>"
      ]
     },
     "metadata": {},
     "output_type": "display_data"
    }
   ],
   "source": [
    "# Print the classification report\n",
    "print(\"**Classification Report**\\n\")\n",
    "print(metrics.classification_report(y_test, y_predicted,\n",
    "                                    target_names=dataset.target_names))\n",
    "\n",
    "# Print and plot the confusion matrix\n",
    "print(\"**Confusion Matrix**\\n\")\n",
    "cm = metrics.confusion_matrix(y_test, y_predicted)\n",
    "print(cm)\n",
    "\n",
    "# lets print the target array so we could know which index refer to positive or negative.\n",
    "print(\"0: \" + dataset.target_names[0] + \"  1: \" + dataset.target_names[1])\n",
    "print(\"2: \" + dataset.target_names[2] + \"  3: \" + dataset.target_names[3]) \n",
    "plt.matshow(cm)\n",
    "plt.show()"
   ]
  },
  {
   "cell_type": "code",
   "execution_count": 661,
   "metadata": {
    "collapsed": true
   },
   "outputs": [],
   "source": [
    "negative_deceptive_i = 0\n",
    "negative_truthful_i = 1\n",
    "positive_deceptive_i = 2\n",
    "positive_truthful_i= 3"
   ]
  },
  {
   "cell_type": "markdown",
   "metadata": {},
   "source": [
    "** Load Tripadvisor reviews **"
   ]
  },
  {
   "cell_type": "code",
   "execution_count": 666,
   "metadata": {
    "collapsed": false
   },
   "outputs": [
    {
     "name": "stdout",
     "output_type": "stream",
     "text": [
      "199999\n",
      "4333\n"
     ]
    }
   ],
   "source": [
    "#reviews_file = 'reviews.txt'\n",
    "#reviews_file = 'reviews_reduced.txt' \n",
    "#reviews_file = 'reviews_100000.txt'\n",
    "reviews_file = 'reviews_200000.txt'\n",
    "offering_file = 'offering.txt'\n",
    "reviews = [json.loads(line) for line in open(reviews_file)]\n",
    "offering = top_ten_df = pd.DataFrame([json.loads(line) for line in open(offering_file)])\n",
    "\n",
    "print(len(reviews))\n",
    "print(len(offering))"
   ]
  },
  {
   "cell_type": "code",
   "execution_count": 667,
   "metadata": {
    "collapsed": false
   },
   "outputs": [],
   "source": [
    "texts =[review['text'] for review in reviews]\n",
    "Xdata = TfidfVect.transform(texts)\n",
    "Xdata_predicted = clf.predict(Xdata)\n",
    "rating_classification = pd.DataFrame(\n",
    "    {'rating': [review['ratings']['overall'] for review in reviews],\n",
    "     'offering_id': [review['offering_id'] for review in reviews],\n",
    "     'date': [datetime.strptime(review['date'], '%B %d, %Y') for review in reviews],\n",
    "     'class':Xdata_predicted}\n",
    ")"
   ]
  },
  {
   "cell_type": "code",
   "execution_count": 668,
   "metadata": {
    "collapsed": false
   },
   "outputs": [
    {
     "data": {
      "text/plain": [
       "class\n",
       "0      5354\n",
       "1     57856\n",
       "2     31099\n",
       "3    105690\n",
       "dtype: int64"
      ]
     },
     "execution_count": 668,
     "metadata": {},
     "output_type": "execute_result"
    }
   ],
   "source": [
    "class_distrbution=rating_classification.groupby(['class']).size()\n",
    "class_distrbution"
   ]
  },
  {
   "cell_type": "markdown",
   "metadata": {},
   "source": [
    "** 1) which is more prevalent, positive deceptive or negative deceptive? what is the deceptive ratio among the truthful reviews?**"
   ]
  },
  {
   "cell_type": "code",
   "execution_count": 670,
   "metadata": {
    "collapsed": false
   },
   "outputs": [
    {
     "data": {
      "image/png": "[encoded data removed]",
      "text/plain": [
       "<matplotlib.figure.Figure at 0x2221a035e48>"
      ]
     },
     "metadata": {},
     "output_type": "display_data"
    }
   ],
   "source": [
    "truthful_c  =  [class_distrbution[negative_truthful_i],class_distrbution[positive_truthful_i]]\n",
    "deceptive_c = [class_distrbution[negative_deceptive_i],class_distrbution[positive_deceptive_i]]\n",
    "\n",
    "fig, ax = plt.subplots()\n",
    "\n",
    "index = np.arange(2)\n",
    "bar_width = 0.35\n",
    "opacity = 0.5\n",
    "\n",
    "rects1 = plt.bar(index, truthful_c, bar_width,\n",
    "                 alpha=opacity,\n",
    "                 color='g',\n",
    "                 label='Truthful')\n",
    "\n",
    "rects2 = plt.bar(index + bar_width, deceptive_c, bar_width,\n",
    "                 alpha=opacity,\n",
    "                 color='r',\n",
    "                 label='Deceptive')\n",
    "\n",
    "plt.title('deceptive/truthful among positive/negative reviews')\n",
    "plt.xticks(index + bar_width, ('Negative', 'Positive'))\n",
    "plt.legend()\n",
    "plt.show()"
   ]
  },
  {
   "cell_type": "markdown",
   "metadata": {},
   "source": [
    "** 2) who are the top ten hotels with deceptive positive reviews?**\n"
   ]
  },
  {
   "cell_type": "code",
   "execution_count": 673,
   "metadata": {
    "collapsed": false
   },
   "outputs": [
    {
     "data": {
      "text/html": [
       "<div>\n",
       "<table border=\"1\" class=\"dataframe\">\n",
       "  <thead>\n",
       "    <tr style=\"text-align: right;\">\n",
       "      <th></th>\n",
       "      <th>class</th>\n",
       "      <th>date</th>\n",
       "      <th>offering_id</th>\n",
       "      <th>rating</th>\n",
       "    </tr>\n",
       "  </thead>\n",
       "  <tbody>\n",
       "    <tr>\n",
       "      <th>5</th>\n",
       "      <td>3</td>\n",
       "      <td>2012-12-19</td>\n",
       "      <td>1776857</td>\n",
       "      <td>5.0</td>\n",
       "    </tr>\n",
       "    <tr>\n",
       "      <th>6</th>\n",
       "      <td>3</td>\n",
       "      <td>2012-12-18</td>\n",
       "      <td>1776857</td>\n",
       "      <td>5.0</td>\n",
       "    </tr>\n",
       "    <tr>\n",
       "      <th>7</th>\n",
       "      <td>3</td>\n",
       "      <td>2012-12-20</td>\n",
       "      <td>1641016</td>\n",
       "      <td>5.0</td>\n",
       "    </tr>\n",
       "    <tr>\n",
       "      <th>8</th>\n",
       "      <td>3</td>\n",
       "      <td>2012-12-19</td>\n",
       "      <td>1641016</td>\n",
       "      <td>5.0</td>\n",
       "    </tr>\n",
       "    <tr>\n",
       "      <th>9</th>\n",
       "      <td>3</td>\n",
       "      <td>2012-12-19</td>\n",
       "      <td>1456560</td>\n",
       "      <td>4.0</td>\n",
       "    </tr>\n",
       "  </tbody>\n",
       "</table>\n",
       "</div>"
      ],
      "text/plain": [
       "   class       date  offering_id  rating\n",
       "5      3 2012-12-19      1776857     5.0\n",
       "6      3 2012-12-18      1776857     5.0\n",
       "7      3 2012-12-20      1641016     5.0\n",
       "8      3 2012-12-19      1641016     5.0\n",
       "9      3 2012-12-19      1456560     4.0"
      ]
     },
     "execution_count": 673,
     "metadata": {},
     "output_type": "execute_result"
    }
   ],
   "source": [
    "a=rating_classification[5:10]\n",
    "a"
   ]
  },
  {
   "cell_type": "code",
   "execution_count": 738,
   "metadata": {
    "collapsed": false
   },
   "outputs": [
    {
     "data": {
      "text/plain": [
       "['********ity Inn',\n",
       " '********ue Inn & Suites Houston',\n",
       " '********Inn Houston',\n",
       " '******** York Hotel',\n",
       " '********ose Hotel',\n",
       " '********lmonico',\n",
       " '********dge',\n",
       " '********cholas Inn',\n",
       " '********i',\n",
       " '******** Best Value Inn & Suites-Houston/FM 249']"
      ]
     },
     "execution_count": 738,
     "metadata": {},
     "output_type": "execute_result"
    }
   ],
   "source": [
    "#DISCLAIMER: the list is based on alpha-non-acurate prediction model and is for eudctional purpose only.\n",
    "#the first 10 characters are hidden to protect brands\n",
    "\n",
    "deceptive_positive_brands_count=rating_classification[rating_classification['class']==positive_deceptive_i].groupby(['offering_id']).size()\n",
    "total_brands_count=rating_classification.groupby(['offering_id']).size()\n",
    "deceptive_positive_brands_ratio=[(i,deceptive_positive_brands_count[i]/total_brands_count[i]) for i in deceptive_positive_brands_count.index]\n",
    "deceptive_positive_brands_ratio.sort(key=lambda tup: tup[1], reverse=True) \n",
    "top_ten = deceptive_positive_brands_ratio[:10]\n",
    "names = [offering[offering.id==offid[0]].name.values[0] for offid in top_ten]\n",
    "['*'*8+name[8:] for name in names]"
   ]
  },
  {
   "cell_type": "code",
   "execution_count": 761,
   "metadata": {
    "collapsed": false
   },
   "outputs": [
    {
     "data": {
      "text/plain": [
       "stars\n",
       "1.0     3\n",
       "1.5     2\n",
       "2.0    29\n",
       "2.5    16\n",
       "3.0     6\n",
       "3.5     6\n",
       "4.0     3\n",
       "4.5     1\n",
       "dtype: int64"
      ]
     },
     "execution_count": 761,
     "metadata": {},
     "output_type": "execute_result"
    }
   ],
   "source": [
    "hotel_class = [offering[offering.id==offid[0]].hotel_class.values[0] for offid in deceptive_positive_brands_ratio[:100]]\n",
    "ppf = pd.DataFrame({'stars':hotel_class}).groupby(['stars']).size()\n",
    "ppf"
   ]
  },
  {
   "cell_type": "code",
   "execution_count": 772,
   "metadata": {
    "collapsed": false
   },
   "outputs": [
    {
     "data": {
      "image/png": "[encoded data removed]",
      "text/plain": [
       "<matplotlib.figure.Figure at 0x222414b7dd8>"
      ]
     },
     "metadata": {},
     "output_type": "display_data"
    }
   ],
   "source": [
    "fig, ax = plt.subplots()\n",
    "\n",
    "index = np.arange(8)\n",
    "bar_width = 0.85\n",
    "opacity = 0.9\n",
    "\n",
    "rects1 = plt.bar(index, ppf, bar_width,\n",
    "                 alpha=opacity,\n",
    "                 color='blue')\n",
    "\n",
    "\n",
    "plt.title('Distribution of hotel-stars among the top 100 deceptive ratio hotels')\n",
    "plt.xticks(index + bar_width-0.35, ppf.index)\n",
    "plt.show()"
   ]
  },
  {
   "cell_type": "markdown",
   "metadata": {},
   "source": [
    "**3) what are the common review sequences followed by deceptive positive reviews? In particular do deceptive positive reviews are used to cover on previous truthful negative reviews? **\n",
    "\n",
    "As the instructions require using both python and weka, this question will be analyzed using GSP algorithm in weka\n",
    "==> prepare the data to be used in Weka. \n"
   ]
  },
  {
   "cell_type": "markdown",
   "metadata": {},
   "source": [
    "==> Data Mining - Practical Machine Learning Tools and Techniques (3rd Ed) - page 487 \n",
    "GeneralizedSequentialPatterns implements a version of Srikant and Agrawal’s\n",
    "(1996) GSP algorithm for finding large item sets that occur sequentially over time.\n",
    "The input data must contain a special nominal attribute that groups transactions\n",
    "(instances) together in time. All instances with the same nominal sequence identifier\n",
    "are grouped together, defining a time window from which sequential patterns can\n",
    "be extracted—for example, the identifier might group transactions according to the\n",
    "day on which they occur. The instances within each group are treated as occurring\n",
    "sequentially, in the order in which they appear in the data. Sequential large item sets,\n",
    "consisting of item combinations that occur across transactions sequentially within a\n",
    "group, are found that meet a user-supplied minimum-support threshold. The output\n",
    "can be optionally filtered to show only those sequential patterns that contain specific\n",
    "items the user is interested in.\n",
    "\n"
   ]
  },
  {
   "cell_type": "code",
   "execution_count": 796,
   "metadata": {
    "collapsed": false
   },
   "outputs": [
    {
     "data": {
      "text/plain": [
       "364"
      ]
     },
     "execution_count": 796,
     "metadata": {},
     "output_type": "execute_result"
    }
   ],
   "source": [
    "import warnings\n",
    "warnings.filterwarnings('ignore')\n",
    "\n",
    "#choose 30 hotel with positive_deceptive_i in order to analyze the sequence pattern\n",
    "selected_hotel=rating_classification[rating_classification['class']==positive_deceptive_i].groupby(['offering_id']).size().sort_values(ascending=False)[-100:-80]\n",
    "selected_hotel_list=selected_hotel.index.tolist()\n",
    "selected_hotel_string = ','.join(str(e) for e in selected_hotel_list)\n",
    "\n",
    "export_data = rating_classification[rating_classification['offering_id'].isin(selected_hotel_list)]\n",
    "export_data.replace(to_replace={'class': {negative_deceptive_i: 'negative'}}, inplace=True)\n",
    "export_data.replace(to_replace={'class': {negative_truthful_i: 'negative'}}, inplace=True)\n",
    "export_data.replace(to_replace={'class': {positive_deceptive_i: 'deceptive_positive'}}, inplace=True)\n",
    "export_data.replace(to_replace={'class': {positive_truthful_i: 'positive'}}, inplace=True)\n",
    "len(export_data.index)"
   ]
  },
  {
   "cell_type": "code",
   "execution_count": 797,
   "metadata": {
    "collapsed": false
   },
   "outputs": [],
   "source": [
    "f = open('output.arff', 'w')\n",
    "f.write(\"@relation review_class_seqential\\n\\n\")\n",
    "f.write(\"@attribute customer {\" + selected_hotel_string +\"}\\n\")\n",
    "f.write(\"@attribute 'rating' {rating=positive,rating=negative,rating=deceptive_positive}\\n\\n\")\n",
    "f.write(\"@data\\n\")\n",
    "\n",
    "for row in export_data.itertuples():\n",
    "    f.write(str(row[3]) + \",\" + \"rating=\" + row[1]+\"\\n\")\n"
   ]
  },
  {
   "cell_type": "markdown",
   "metadata": {},
   "source": [
    " <img src=\"weka.png\">"
   ]
  },
  {
   "cell_type": "markdown",
   "metadata": {},
   "source": [
    "**Experiment steps:**\n",
    "1-choose 20 hotel from the hotels who have high ratio of deceptive positive.\n",
    "2-extract all reviews of these hotels, build arff (cell abovefile and run in weka\n",
    "\n",
    "** Result-frequent 5,6 sequences ends with deceptive positive **\n",
    "**5-sequences**\n",
    "\n",
    "[1] <{rating=positive}{rating=positive}{rating=positive}{rating=negative}{rating=deceptive_positive}> (4)\n",
    "\n",
    "[3] <{rating=positive}{rating=negative}{rating=positive}{rating=positive}{rating=deceptive_positive}> (4)\n",
    "\n",
    "[4] <{rating=positive}{rating=negative}{rating=positive}{rating=negative}{rating=deceptive_positive}> (4)\n",
    "\n",
    "[6] <{rating=negative}{rating=positive}{rating=positive}{rating=positive}{rating=deceptive_positive}> (4)\n",
    "\n",
    "[7] <{rating=negative}{rating=positive}{rating=positive}{rating=negative}{rating=deceptive_positive}> (4)\n",
    "\n",
    "[10] <{rating=negative}{rating=positive}{rating=negative}{rating=positive}{rating=deceptive_positive}> (4)\n",
    "\n",
    "[11] <{rating=negative}{rating=positive}{rating=negative}{rating=negative}{rating=deceptive_positive}> (4)\n",
    "\n",
    "[13] <{rating=negative}{rating=negative}{rating=positive}{rating=positive}{rating=deceptive_positive}> (4)\n",
    "\n",
    "[14] <{rating=negative}{rating=negative}{rating=positive}{rating=negative}{rating=deceptive_positive}> (4)\n",
    "\n",
    "**6-sequences**\n",
    "\n",
    "[1] <{rating=positive}{rating=negative}{rating=positive}{rating=positive}{rating=negative}{rating=deceptive_positive}> (4)\n",
    "\n",
    "[3] <{rating=negative}{rating=positive}{rating=negative}{rating=positive}{rating=positive}{rating=deceptive_positive}> (4)\n",
    "\n",
    "[4] <{rating=negative}{rating=positive}{rating=negative}{rating=positive}{rating=negative}{rating=deceptive_positive}> (4)\n"
   ]
  },
  {
   "cell_type": "markdown",
   "metadata": {},
   "source": [
    "** 4) would a 2-steps approach based on domain knowledge (like the one presented on anomaly detection showcase) improves the accuracy of the model? **\n",
    "\n",
    "http://web.cs.wpi.edu/~cs548/f16/Showcase/CS548F16_Showcase_Anomaly_Detection.pptx"
   ]
  },
  {
   "cell_type": "markdown",
   "metadata": {},
   "source": [
    " <img src=\"twosteps.png\">"
   ]
  },
  {
   "cell_type": "markdown",
   "metadata": {},
   "source": [
    "** what features we could extract from the text for the anomaly detecion step?**\n",
    "\n",
    "Some online reviews are too good to be true; Cornell computers spot 'opinion spam'\n",
    "http://bit.ly/2g6ou9X \n",
    "\n",
    "\n",
    "\"The researchers then applied computer analysis based on subtle features of text. Truthful hotel reviews, for example, are more likely to use concrete words relating to the hotel, like \"bathroom,\" \"check-in\" or \"price.\" Deceivers write more about things that set the scene, like \"vacation,\" \"business trip\" or \"my husband.\" Truth-tellers and deceivers also differ in the use of keywords referring to human behavior and personal life, and sometimes in features like the amount of punctuation or frequency of \"large words.\" In parallel with previous analysis of imaginative vs. informative writing, deceivers use more verbs and truth-tellers use more nouns.\"\n",
    "\n",
    "Featuers to extract:\n",
    "\n",
    "1)amount of punctuation\n",
    "\n",
    "2)total nouns - total verbs \n",
    "\n",
    "3)length of the review.\n",
    "\n",
    "4) adjective and adverbs ratio\n"
   ]
  },
  {
   "cell_type": "code",
   "execution_count": 798,
   "metadata": {
    "collapsed": false
   },
   "outputs": [],
   "source": [
    "import nltk\n",
    "#fit the anomly detection model using truthful reviews.\n",
    "data_set = dataset.data\n",
    "\n",
    "rev_length = [len(data) for data in data_set]\n",
    "tokens = [nltk.word_tokenize(data) for data in data_set]\n",
    "taggeds = [nltk.pos_tag(token,tagset='universal') for token in tokens] \n",
    "tag_fds = [nltk.FreqDist(tag for (word, tag) in tagged) for tagged in taggeds]\n",
    "totals = [tag_fd['ADJ'] + tag_fd['NOUN'] + tag_fd['PRON']+tag_fd['ADV']+tag_fd['VERB'] for tag_fd in tag_fds]\n",
    "# define featuers.\n",
    "punctuation_amount = [tag_fd['.'] for tag_fd in tag_fds]\n",
    "adv_adj_ratio = [(tag_fd['ADJ'] + tag_fd['ADV'])/total for tag_fd,total in zip(tag_fds,totals)]\n",
    "noun_ratio = [tag_fd['NOUN']/total for tag_fd,total in zip(tag_fds,totals)]\n",
    "verb_noun_diff = [tag_fd['VERB'] - tag_fd['NOUN'] for tag_fd in tag_fds]\n"
   ]
  },
  {
   "cell_type": "code",
   "execution_count": 818,
   "metadata": {
    "collapsed": false
   },
   "outputs": [],
   "source": [
    "from sklearn.svm import OneClassSVM\n",
    "# combine all extractd featuers in one data frame\n",
    "features = {'Length': rev_length,'punctuation_amount': punctuation_amount,'adv_adj_ratio': adv_adj_ratio,'noun_ratio': noun_ratio,'verb_noun_diff': verb_noun_diff}\n",
    "df = pd.DataFrame(features)\n",
    "\n",
    "x_truthful_traning = df[(dataset.target==positive_truthful_i) | (dataset.target==negative_truthful_i)]\n",
    "\n",
    "anomly_detector = OneClassSVM()\n",
    "docs_train_1, docs_test_1 = train_test_split(\n",
    "    x_truthful_traning, test_size=0.10, random_state=None)\n",
    "\n",
    "anomly_detector.fit(docs_train_1)\n",
    "\n",
    "# we fit on 90% of the non-outliers and test on the whole including outliers.\n",
    "# the test include part of the training data! evulation may bias - Fix that later and test on docs_test.\n",
    "ad_predicted = anomly_detector.predict(df)\n",
    "\n",
    "# build the true target, mask truthful with 1 - not outlier, deceptive with -1, outliers.\n",
    "ture_target=[1 if (x==positive_truthful_i) | (x ==negative_truthful_i) else -1 for x in dataset.target]\n"
   ]
  },
  {
   "cell_type": "code",
   "execution_count": 820,
   "metadata": {
    "collapsed": false
   },
   "outputs": [
    {
     "name": "stdout",
     "output_type": "stream",
     "text": [
      "**Classification Report**\n",
      "\n",
      "             precision    recall  f1-score   support\n",
      "\n",
      "    outlier       0.58      1.00      0.74       801\n",
      "non-outlier       1.00      0.28      0.44       801\n",
      "\n",
      "avg / total       0.79      0.64      0.59      1602\n",
      "\n"
     ]
    }
   ],
   "source": [
    "# evalution for the anomly detection\n",
    "print(\"**Classification Report**\\n\")\n",
    "print(metrics.classification_report(ture_target, ad_predicted,target_names=['outlier','non-outlier']))\n"
   ]
  },
  {
   "cell_type": "markdown",
   "metadata": {},
   "source": [
    "** build 2 steps prediction model **\n",
    "\n",
    "one advantage of having unsupervised step is that we could train it with part of tripadvisor data too. The training data we have includes 800 reviews classified as deceptive.  With unsupervised step we can train the data on large number from tripadvisor(though we can’t use the novelty approach that I used here as the data will be already polluted with outliers). in this context I still use the same training/test data.\n",
    "\n",
    "which step to run first? anomaly detection or the text classifier?\n",
    "depends which error we want to reduce! the false positive or false negative,\n",
    "the orginal confusion matrix shows false positive ratio is higher than false negative. apprently the giving 2nd chance to deceptive to become truthful will give better result. anyway we will build the two models and then evaluote them\n"
   ]
  },
  {
   "cell_type": "code",
   "execution_count": 821,
   "metadata": {
    "collapsed": false
   },
   "outputs": [],
   "source": [
    "def extract_featuers(input_data):\n",
    "    rev_length = [len(data) for data in input_data]\n",
    "    tokens = [nltk.word_tokenize(data) for data in input_data]\n",
    "    taggeds = [nltk.pos_tag(token,tagset='universal') for token in tokens] \n",
    "    tag_fds = [nltk.FreqDist(tag for (word, tag) in tagged) for tagged in taggeds]\n",
    "    totals = [tag_fd['ADJ'] + tag_fd['NOUN'] + tag_fd['PRON']+tag_fd['ADV']+tag_fd['VERB'] for tag_fd in tag_fds]\n",
    "    punctuation_amount = [tag_fd['.'] for tag_fd in tag_fds]\n",
    "    adv_adj_ratio = [(tag_fd['ADJ'] + tag_fd['ADV'])/total for tag_fd,total in zip(tag_fds,totals)]\n",
    "    noun_ratio = [tag_fd['NOUN']/total for tag_fd,total in zip(tag_fds,totals)]\n",
    "    verb_noun_diff = [tag_fd['VERB'] - tag_fd['NOUN'] for tag_fd in tag_fds]\n",
    "    features = {'Length': rev_length,'punctuation_amount': punctuation_amount,'adv_adj_ratio': adv_adj_ratio,'noun_ratio': noun_ratio,'verb_noun_diff': verb_noun_diff}\n",
    "    return pd.DataFrame(features)\n",
    "\n",
    "# define featuers.\n",
    "def mask_deceptive(value):\n",
    "    if (value == negative_deceptive_i):\n",
    "        return negative_truthful_i\n",
    "    elif (value == positive_deceptive_i):\n",
    "        return positive_truthful_i\n",
    "    else:\n",
    "        return value\n",
    "\n",
    "def mask_truthful(value):\n",
    "    if (value == negative_truthful_i):\n",
    "        return negative_deceptive_i\n",
    "    elif (value == positive_truthful_i):\n",
    "        return positive_deceptive_i\n",
    "    else:\n",
    "        return value\n",
    "\n",
    "def ad_then_clf(input_data):\n",
    "    f = extract_featuers(input_data)\n",
    "    ad_result = anomly_detector.predict(f)\n",
    "    X_vect = TfidfVect.transform(input_data).toarray()\n",
    "    clf_result = clf.predict(X_vect)\n",
    "    # return the clf result if anomly return 1;\n",
    "    # if anomly detect -1 (outlier), mask the deceptive positive/negative with truthful positive/negative respectvely. \n",
    "    result=[cf if (ad==-1) else mask_deceptive(cf) for cf,ad in zip(clf_result,ad_result)]\n",
    "    return result\n",
    "\n",
    "def clf_then_ad(input_data):\n",
    "    f = extract_featuers(input_data)\n",
    "    ad_result = anomly_detector.predict(f)\n",
    "    X_vect = TfidfVect.transform(input_data).toarray()\n",
    "    clf_result = clf.predict(X_vect)\n",
    "    # return the clf result if it deceptive\n",
    "    # otherwise check if it's true outlier.\n",
    "    result=[cf if ((cf==negative_deceptive_i) | (cf==positive_deceptive_i)) else cf if (ad==1) else mask_truthful(cf) for cf,ad in zip(clf_result,ad_result)]\n",
    "    return result\n"
   ]
  },
  {
   "cell_type": "markdown",
   "metadata": {},
   "source": [
    "**Evalution of the two steps approaches**"
   ]
  },
  {
   "cell_type": "code",
   "execution_count": 826,
   "metadata": {
    "collapsed": false
   },
   "outputs": [],
   "source": [
    "# Creating new split will increse the risk of mixing test with traing data. use the original split in the 1st cell\n",
    "# two_steps_docs_train, two_steps_docs_test, two_steps_y_train, two_steps_y_test = train_test_split(\n",
    "#    dataset.data, dataset.target, test_size=0.10, random_state=None)\n",
    "\n",
    "# use origianl split to avoid mixing training data with test data.\n",
    "two_steps_docs_test = docs_test\n",
    "two_steps_y_test= y_test\n",
    "\n",
    "clf_then_ad_result = clf_then_ad(two_steps_docs_test)\n",
    "ad_then_clf_result = ad_then_clf(two_steps_docs_test)"
   ]
  },
  {
   "cell_type": "code",
   "execution_count": 827,
   "metadata": {
    "collapsed": false
   },
   "outputs": [
    {
     "name": "stdout",
     "output_type": "stream",
     "text": [
      "**Classification Report clf then ad**\n",
      "\n",
      "                    precision    recall  f1-score   support\n",
      "\n",
      "negative_deceptive       0.56      0.95      0.70        42\n",
      " negative_truthful       1.00      0.17      0.30        40\n",
      "positive_deceptive       0.61      1.00      0.76        44\n",
      " positive_truthful       1.00      0.29      0.44        35\n",
      "\n",
      "       avg / total       0.78      0.63      0.56       161\n",
      "\n",
      "**Confusion Matrixclf then ad**\n",
      "\n",
      "[[40  0  2  0]\n",
      " [31  7  2  0]\n",
      " [ 0  0 44  0]\n",
      " [ 1  0 24 10]]\n",
      "0: negative_deceptive  1: negative_truthful\n",
      "2: positive_deceptive  3: positive_truthful\n"
     ]
    },
    {
     "data": {
      "image/png": "[encoded data removed]",
      "text/plain": [
       "<matplotlib.figure.Figure at 0x2221a26ecf8>"
      ]
     },
     "metadata": {},
     "output_type": "display_data"
    },
    {
     "name": "stdout",
     "output_type": "stream",
     "text": [
      "**Classification Report ad then clf **\n",
      "\n",
      "                    precision    recall  f1-score   support\n",
      "\n",
      "negative_deceptive       0.94      0.81      0.87        42\n",
      " negative_truthful       0.84      0.90      0.87        40\n",
      "positive_deceptive       0.88      0.98      0.92        44\n",
      " positive_truthful       0.94      0.89      0.91        35\n",
      "\n",
      "       avg / total       0.90      0.89      0.89       161\n",
      "\n",
      "**Confusion Matrix ad then clf **\n",
      "\n",
      "[[34  6  2  0]\n",
      " [ 2 36  1  1]\n",
      " [ 0  0 43  1]\n",
      " [ 0  1  3 31]]\n",
      "0: negative_deceptive  1: negative_truthful\n",
      "2: positive_deceptive  3: positive_truthful\n"
     ]
    },
    {
     "data": {
      "image/png": "[encoded data removed]",
      "text/plain": [
       "<matplotlib.figure.Figure at 0x222025170f0>"
      ]
     },
     "metadata": {},
     "output_type": "display_data"
    }
   ],
   "source": [
    "\n",
    "print(\"**Classification Report clf then ad**\\n\")\n",
    "print(metrics.classification_report(y_test, clf_then_ad_result,target_names=dataset.target_names))\n",
    "print(\"**Confusion Matrixclf then ad**\\n\")\n",
    "cm = metrics.confusion_matrix(y_test, clf_then_ad_result)\n",
    "print(cm)\n",
    "print(\"0: \" + dataset.target_names[0] + \"  1: \" + dataset.target_names[1])\n",
    "print(\"2: \" + dataset.target_names[2] + \"  3: \" + dataset.target_names[3]) \n",
    "plt.matshow(cm)\n",
    "plt.show()\n",
    "\n",
    "\n",
    "print(\"**Classification Report ad then clf **\\n\")\n",
    "print(metrics.classification_report(y_test, ad_then_clf_result,target_names=dataset.target_names))\n",
    "print(\"**Confusion Matrix ad then clf **\\n\")\n",
    "cm = metrics.confusion_matrix(y_test, ad_then_clf_result)\n",
    "print(cm)\n",
    "print(\"0: \" + dataset.target_names[0] + \"  1: \" + dataset.target_names[1])\n",
    "print(\"2: \" + dataset.target_names[2] + \"  3: \" + dataset.target_names[3]) \n",
    "plt.matshow(cm)\n",
    "plt.show()"
   ]
  },
  {
   "cell_type": "code",
   "execution_count": null,
   "metadata": {
    "collapsed": true
   },
   "outputs": [],
   "source": []
  }
 ],
 "metadata": {
  "anaconda-cloud": {},
  "celltoolbar": "Raw Cell Format",
  "kernelspec": {
   "display_name": "Python [conda root]",
   "language": "python",
   "name": "conda-root-py"
  },
  "language_info": {
   "codemirror_mode": {
    "name": "ipython",
    "version": 3
   },
   "file_extension": ".py",
   "mimetype": "text/x-python",
   "name": "python",
   "nbconvert_exporter": "python",
   "pygments_lexer": "ipython3",
   "version": "3.5.2"
  }
 },
 "nbformat": 4,
 "nbformat_minor": 0
}
