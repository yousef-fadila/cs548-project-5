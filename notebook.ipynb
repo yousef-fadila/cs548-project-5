{
 "cells": [
  {
   "cell_type": "markdown",
   "metadata": {
    "collapsed": true
   },
   "source": [
    "# Project 5 : CS548 - Text Mining: Spot Deceptive TripAdvisor Hotel's Reviews\n",
    "\n",
    "** http://web.cs.wpi.edu/~cs548/f16/Projects/Project5/ **\n",
    "\n",
    "** Notebook URL: https://github.com/yousef-fadila/cs548-project-5/blob/master/notebook.ipynb ** \n",
    "\n",
    "** Test it Yourself: http://yousef.fadila.net/cs548/ **\n",
    "\n",
    "** By: Yousef Fadila ** "
   ]
  },
  {
   "cell_type": "markdown",
   "metadata": {},
   "source": [
    "<p class=\"c3\"><span\n",
    " style=\"border: 0px solid rgb(0, 0, 0); margin: 0px; overflow: hidden; width: 624px; height: 4px;\"><img\n",
    " alt=\"\" src=\"images/image20.png\"\n",
    " style=\"width: 624px; height: 4px; margin-left: 0px; margin-top: 0px;\"\n",
    " title=\"\"></span></p>\n",
    "<hr style=\"page-break-before: always; display: none;\">\n",
    "<p></p>\n",
    "<h1 class=\"c3 c21\" id=\"h.t1thajvduk2u\"><span>Motivation</span><span\n",
    " class=\"c19\">:</span></h1>\n",
    "<p class=\"c3\"><span class=\"c1\">Travellers\n",
    "usually check hotels reviews before reserving a room. Because of that\n",
    "hotel owners and marketing departments could intentionally buy/post\n",
    "fake reviews to increase their rating and therefore sales . The problem\n",
    "I want to address is exploring the deceptive reviews phenomena on\n",
    "TripAdvisor using text mining technique and other exploratory and\n",
    "analysis methods. In particular I want to know the spread of this\n",
    "phenomenon, in which segment (i.e stars rating) it is common and if\n",
    "deceptive positive reviews are used to cover on previous negative\n",
    "reviews. </span></p>\n",
    "<p class=\"c3\"><span class=\"c1\">The following\n",
    "is a list of fake reviews from the news to illustrate how serious is\n",
    "this problem.</span></p>\n",
    "<p class=\"c3\"><span class=\"c1\">TripAdvisor\n",
    "warns of hotels posting fake reviews<br>\n",
    "</span><span class=\"c1 c5\"><a class=\"c6\"\n",
    " href=\"https://www.google.com/url?q=http://abcnews.go.com/Technology/story?id%3D8094231&amp;sa=D&amp;ust=1481720148641000&amp;usg=AFQjCNF2h7zkPfwvW1lhOjuvUea9s7MskQ\">http://abcnews.go.com/Technology/story?id=8094231</a></span><span\n",
    " class=\"c1\">&nbsp;</span></p>\n",
    "<p class=\"c3\"><span class=\"c1\">Unfortunately,\n",
    "Reviews on Yelp Cannot Be Relied Upon for Vetting Purposes<br>\n",
    "</span><span class=\"c1 c5\"><a class=\"c6\"\n",
    " href=\"https://www.google.com/url?q=http://www.huffingtonpost.com/mark-baer/unfortunately-reviews-on-_b_5893400.html&amp;sa=D&amp;ust=1481720148642000&amp;usg=AFQjCNFgLTV00pwkK2PpIOWu1otPB7N-FA\">http://www.huffingtonpost.com/mark-baer/unfortunately-reviews-on-_b_5893400.html</a></span><span\n",
    " class=\"c1\">&nbsp;</span></p>\n",
    "<p class=\"c3\"><span class=\"c1\">TripAdvisor\n",
    "have admitted they have a problem with fake reviews<br>\n",
    "</span><span class=\"c1 c5\"><a class=\"c6\"\n",
    " href=\"https://www.google.com/url?q=https://www.theguardian.com/travel/2015/oct/24/twitter-campaign-targets-fake-tripadvisor-restaurant-reviews&amp;sa=D&amp;ust=1481720148644000&amp;usg=AFQjCNF8FFVUbPDR6uaxAj0T0sT-vVxOiQ\">https://www.theguardian.com/travel/2015/oct/24/twitter-campaign-targets-fake-tripadvisor-restaurant-reviews</a></span><span\n",
    " class=\"c1\">&nbsp;</span></p>\n",
    "<p class=\"c3\"><span class=\"c1\">Amazon sues\n",
    "more sellers for buying fake reviews<br>\n",
    "</span><span class=\"c1 c5\"><a class=\"c6\"\n",
    " href=\"https://www.google.com/url?q=https://techcrunch.com/2016/10/27/amazon-sues-more-sellers-for-buying-fake-reviews/&amp;sa=D&amp;ust=1481720148645000&amp;usg=AFQjCNH_ooxvJeci_4biGXcPxSFUaplR8Q\">https://techcrunch.com/2016/10/27/amazon-sues-more-sellers-for-buying-fake-reviews/</a></span><span\n",
    " class=\"c1\">&nbsp;</span></p>\n",
    "<p class=\"c3\"><span class=\"c1\">Fakespot says\n",
    "its data is showing 40 percent of Amazon reviews are fake<br>\n",
    "</span><span class=\"c1 c5\"><a class=\"c6\"\n",
    " href=\"https://www.google.com/url?q=http://www.denverpost.com/2016/11/28/fake-reviews-shopping-apps-online/&amp;sa=D&amp;ust=1481720148647000&amp;usg=AFQjCNHwSnymXPtp1lEFYDiHUDTlZBeXug\">http://www.denverpost.com/2016/11/28/fake-reviews-shopping-apps-online/</a></span><span\n",
    " class=\"c1\">&nbsp;</span></p>\n",
    "<p class=\"c3\"><span class=\"c1\">Amazon Is\n",
    "Cracking Down on More Fake Reviews<br>\n",
    "</span><span class=\"c1 c5\"><a class=\"c6\"\n",
    " href=\"https://www.google.com/url?q=http://fortune.com/2016/10/27/amazon-lawsuit-fake-reviews/&amp;sa=D&amp;ust=1481720148648000&amp;usg=AFQjCNHFN_wFElXpPPoNKsv3VQT-ydJB2w\">http://fortune.com/2016/10/27/amazon-lawsuit-fake-reviews/</a></span><span\n",
    " class=\"c1\">&nbsp;</span></p>\n",
    "<p class=\"c3 c4\"><span class=\"c1\"></span></p>\n",
    "<h2 class=\"c3 c21\" id=\"h.kwxusdon0mpz\"><span\n",
    " class=\"c19\">Guiding Questions:</span></h2>\n",
    "<ol class=\"c14 lst-kix_ap46bytigls2-0 start\" start=\"1\">\n",
    "  <li class=\"c0 c8\"><span class=\"c1\">Which is\n",
    "more prevalent, positive deceptive or negative deceptive reviews among\n",
    "the 200,000 sample reviews?</span></li>\n",
    "  <li class=\"c0 c8 c13\"><span class=\"c1\">What\n",
    "star-rating of hotels most commonly has deceptive reviews? Who are the\n",
    "top ten hotels with deceptive positive reviews?</span></li>\n",
    "  <li class=\"c0 c8 c13\"><span class=\"c1\">Is\n",
    "there enough support to claim that deceptive positive reviews are used\n",
    "to cover previous negative reviews?</span></li>\n",
    "  <li class=\"c0 c8\"><span class=\"c1\">Would a\n",
    "2-step approach based on domain knowledge (like the one presented on\n",
    "anomaly detection showcase) improve the accuracy of the text\n",
    "classification model? &nbsp;could other topology improve the\n",
    "performance of the algorithm</span></li>\n",
    "</ol>\n",
    "<p class=\"c0 c4\"><span class=\"c1\"></span></p>\n"
   ]
  },
  {
   "cell_type": "markdown",
   "metadata": {},
   "source": [
    "Training data:\n",
    "-- Deceptive Opinion Spam Corpus v1.4 - downloaded from http://myleott.com/op_spam/\n",
    "\n",
    "Examination data:\n",
    "--  TripAdvisor reviews downloaded from http://myleott.com/op_spam/"
   ]
  },
  {
   "cell_type": "code",
   "execution_count": 128,
   "metadata": {
    "collapsed": true
   },
   "outputs": [],
   "source": [
    "# Global Import\n",
    "import sys\n",
    "from sklearn.feature_extraction.text import TfidfVectorizer\n",
    "from sklearn.svm import LinearSVC\n",
    "from sklearn.datasets import load_files\n",
    "from sklearn.model_selection import train_test_split\n",
    "from sklearn import metrics\n",
    "import pandas as pd\n",
    "import numpy as np\n",
    "import matplotlib.pylab as py\n",
    "import matplotlib.pyplot as plt\n",
    "import scipy\n",
    "from IPython.display import HTML\n",
    "from datetime import datetime, date\n",
    "import time\n",
    "from sklearn.svm import LinearSVC\n",
    "lastRunTime = datetime.now().strftime('%Y-%m-%d %H:%M:%S')\n",
    "import re\n",
    "from sklearn import tree\n",
    "import json\n",
    "%matplotlib inline"
   ]
  },
  {
   "cell_type": "code",
   "execution_count": 129,
   "metadata": {
    "collapsed": false
   },
   "outputs": [
    {
     "name": "stdout",
     "output_type": "stream",
     "text": [
      "n_samples: 1602\n",
      "Done: 2016-12-12 13:06:54\n"
     ]
    }
   ],
   "source": [
    "# load training data: load Deceptive Opinion Spam Corpus\n",
    "dataset = load_files('training-data', encoding='utf-8', decode_error='replace',shuffle=False)\n",
    "print(\"n_samples: %d\" % len(dataset.data))\n",
    "\n",
    "print(\"Done: \" + lastRunTime)"
   ]
  },
  {
   "cell_type": "code",
   "execution_count": 48,
   "metadata": {
    "collapsed": false
   },
   "outputs": [
    {
     "name": "stdout",
     "output_type": "stream",
     "text": [
      "Xtrain:(1441, 22392)\n",
      "Xtest:(161, 22392)\n",
      "elapsed_time: 7.03125\n"
     ]
    }
   ],
   "source": [
    "# split the dataset in training and test set:\n",
    "t = time.process_time()\n",
    "docs_train, docs_test, y_train, y_test = train_test_split(\n",
    "    dataset.data, dataset.target, test_size=0.10, random_state=None)\n",
    "min_df=3\n",
    "max_df=0.96\n",
    "# ngram (1,3) gives better percsion than 1,2 and 1,4 doesn't improve accuracy. \n",
    "ngram_range = (1,3) \n",
    "TfidfVect= TfidfVectorizer(min_df = min_df, max_df = max_df, ngram_range = ngram_range).fit(docs_train)\n",
    "Xtrain = TfidfVect.transform(docs_train).toarray()\n",
    "print(\"Xtrain:\" + str(Xtrain.shape))\n",
    "Xtest = TfidfVect.transform(docs_test).toarray()\n",
    "print(\"Xtest:\" + str(Xtest.shape))\n",
    "\n",
    "#clf = tree.DecisionTreeClassifier()\n",
    "clf  = LinearSVC(C=1000)\n",
    "\n",
    "clf.fit(Xtrain, y_train)\n",
    "y_predicted = clf.predict(Xtest)\n",
    "print(\"elapsed_time:\" , time.process_time() - t)"
   ]
  },
  {
   "cell_type": "code",
   "execution_count": 50,
   "metadata": {
    "collapsed": false,
    "scrolled": false
   },
   "outputs": [
    {
     "name": "stdout",
     "output_type": "stream",
     "text": [
      "**Classification Report**\n",
      "\n",
      "                    precision    recall  f1-score   support\n",
      "\n",
      "negative_deceptive       0.86      0.86      0.86        44\n",
      " negative_truthful       0.88      0.78      0.83        46\n",
      "positive_deceptive       0.82      0.91      0.86        35\n",
      " positive_truthful       0.81      0.83      0.82        36\n",
      "\n",
      "       avg / total       0.85      0.84      0.84       161\n",
      "\n",
      "**Confusion Matrix**\n",
      "\n",
      "[[38  4  2  0]\n",
      " [ 6 36  0  4]\n",
      " [ 0  0 32  3]\n",
      " [ 0  1  5 30]]\n",
      "0: negative_deceptive  1: negative_truthful\n",
      "2: positive_deceptive  3: positive_truthful\n"
     ]
    },
    {
     "data": {
      "image/png": "[encoded data removed]",
      "text/plain": [
       "<matplotlib.figure.Figure at 0x21eb1e6f6d8>"
      ]
     },
     "metadata": {},
     "output_type": "display_data"
    }
   ],
   "source": [
    "# Print the classification report\n",
    "print(\"**Classification Report**\\n\")\n",
    "print(metrics.classification_report(y_test, y_predicted,\n",
    "                                    target_names=dataset.target_names))\n",
    "\n",
    "# Print and plot the confusion matrix\n",
    "print(\"**Confusion Matrix**\\n\")\n",
    "cm = metrics.confusion_matrix(y_test, y_predicted)\n",
    "print(cm)\n",
    "\n",
    "# lets print the target array so we could know which index refer to positive or negative.\n",
    "print(\"0: \" + dataset.target_names[0] + \"  1: \" + dataset.target_names[1])\n",
    "print(\"2: \" + dataset.target_names[2] + \"  3: \" + dataset.target_names[3]) \n",
    "plt.matshow(cm)\n",
    "plt.show()\n"
   ]
  },
  {
   "cell_type": "code",
   "execution_count": 130,
   "metadata": {
    "collapsed": true
   },
   "outputs": [],
   "source": [
    "negative_deceptive_i = 0\n",
    "negative_truthful_i = 1\n",
    "positive_deceptive_i = 2\n",
    "positive_truthful_i= 3"
   ]
  },
  {
   "cell_type": "markdown",
   "metadata": {},
   "source": [
    "** Load Tripadvisor reviews **"
   ]
  },
  {
   "cell_type": "code",
   "execution_count": 6,
   "metadata": {
    "collapsed": false
   },
   "outputs": [
    {
     "name": "stdout",
     "output_type": "stream",
     "text": [
      "199999\n",
      "4333\n"
     ]
    }
   ],
   "source": [
    "#reviews_file = 'reviews.txt'\n",
    "#reviews_file = 'reviews_reduced.txt' \n",
    "#reviews_file = 'reviews_100000.txt'\n",
    "reviews_file = 'reviews_200000.txt'\n",
    "offering_file = 'offering.txt'\n",
    "reviews = [json.loads(line) for line in open(reviews_file)]\n",
    "offering = top_ten_df = pd.DataFrame([json.loads(line) for line in open(offering_file)])\n",
    "\n",
    "print(len(reviews))\n",
    "print(len(offering))"
   ]
  },
  {
   "cell_type": "code",
   "execution_count": 51,
   "metadata": {
    "collapsed": false
   },
   "outputs": [
    {
     "name": "stdout",
     "output_type": "stream",
     "text": [
      "elapsed_time: 135.484375\n"
     ]
    }
   ],
   "source": [
    "t = time.process_time()\n",
    "texts =[review['text'] for review in reviews]\n",
    "Xdata = TfidfVect.transform(texts)\n",
    "Xdata_predicted = clf.predict(Xdata)\n",
    "rating_classification = pd.DataFrame(\n",
    "    {'rating': [review['ratings']['overall'] for review in reviews],\n",
    "     'offering_id': [review['offering_id'] for review in reviews],\n",
    "     'date': [datetime.strptime(review['date'], '%B %d, %Y') for review in reviews],\n",
    "     'class':Xdata_predicted}\n",
    ")\n",
    "print(\"elapsed_time:\" , time.process_time() - t)"
   ]
  },
  {
   "cell_type": "code",
   "execution_count": 52,
   "metadata": {
    "collapsed": false
   },
   "outputs": [
    {
     "data": {
      "text/plain": [
       "class\n",
       "0      5174\n",
       "1     56221\n",
       "2     26306\n",
       "3    112298\n",
       "dtype: int64"
      ]
     },
     "execution_count": 52,
     "metadata": {},
     "output_type": "execute_result"
    }
   ],
   "source": [
    "class_distrbution=rating_classification.groupby(['class']).size()\n",
    "class_distrbution"
   ]
  },
  {
   "cell_type": "markdown",
   "metadata": {},
   "source": [
    "# Guding Question 1:\n",
    "\n",
    "**Which is more prevalent, positive deceptive or negative deceptive reviews among the 200,000 sample reviews?**"
   ]
  },
  {
   "cell_type": "code",
   "execution_count": 9,
   "metadata": {
    "collapsed": false
   },
   "outputs": [
    {
     "data": {
      "image/png": "[encoded data removed]",
      "text/plain": [
       "<matplotlib.figure.Figure at 0x21eb1d57668>"
      ]
     },
     "metadata": {},
     "output_type": "display_data"
    }
   ],
   "source": [
    "truthful_c  =  [class_distrbution[negative_truthful_i],class_distrbution[positive_truthful_i]]\n",
    "deceptive_c = [class_distrbution[negative_deceptive_i],class_distrbution[positive_deceptive_i]]\n",
    "\n",
    "fig, ax = plt.subplots()\n",
    "\n",
    "index = np.arange(2)\n",
    "bar_width = 0.35\n",
    "opacity = 0.5\n",
    "\n",
    "rects1 = plt.bar(index, truthful_c, bar_width,\n",
    "                 alpha=opacity,\n",
    "                 color='g',\n",
    "                 label='Truthful')\n",
    "\n",
    "rects2 = plt.bar(index + bar_width, deceptive_c, bar_width,\n",
    "                 alpha=opacity,\n",
    "                 color='r',\n",
    "                 label='Deceptive')\n",
    "\n",
    "plt.title('deceptive/truthful among positive/negative reviews')\n",
    "plt.xticks(index + bar_width, ('Negative', 'Positive'))\n",
    "plt.legend()\n",
    "plt.show()"
   ]
  },
  {
   "cell_type": "markdown",
   "metadata": {},
   "source": [
    "# Guiding Question 2:\n",
    "\n",
    "** What star-rating of hotels most commonly has deceptive reviews? Who are the top ten hotels with deceptive positive reviews?**\n"
   ]
  },
  {
   "cell_type": "code",
   "execution_count": 196,
   "metadata": {
    "collapsed": false
   },
   "outputs": [
    {
     "name": "stdout",
     "output_type": "stream",
     "text": [
      "Rodeway Inn Houston\n"
     ]
    },
    {
     "data": {
      "text/plain": [
       "['********Inn Houston',\n",
       " '******** York Hotel',\n",
       " '********ose Hotel',\n",
       " '********a Inn Houston Wirt Road',\n",
       " '********lmonico',\n",
       " '******** Best Value Inn & Suites-Houston/FM 249',\n",
       " '******** Hotel',\n",
       " '********nn and Suites - Willowbrook',\n",
       " '********Inn Houston West-Westway Park',\n",
       " '******** Stay America - Houston - Westchase - Westheimer']"
      ]
     },
     "execution_count": 196,
     "metadata": {},
     "output_type": "execute_result"
    }
   ],
   "source": [
    "#DISCLAIMER: the list is based on alpha-non-acurate prediction model and is for eudctional purpose only.\n",
    "#the first 10 characters are hidden to protect brands\n",
    "\n",
    "deceptive_positive_brands_count=rating_classification[rating_classification['class']==positive_deceptive_i].groupby(['offering_id']).size()\n",
    "total_brands_count=rating_classification.groupby(['offering_id']).size()\n",
    "deceptive_positive_brands_ratio=[(i,deceptive_positive_brands_count[i]/total_brands_count[i]) for i in deceptive_positive_brands_count.index]\n",
    "deceptive_positive_brands_ratio.sort(key=lambda tup: tup[1], reverse=True) \n",
    "top_ten = deceptive_positive_brands_ratio[:10]\n",
    "names = [offering[offering.id==offid[0]].name.values[0] for offid in top_ten]\n",
    "print(names[0])\n",
    "\n",
    "['*'*8+name[8:] for name in names]"
   ]
  },
  {
   "cell_type": "code",
   "execution_count": 57,
   "metadata": {
    "collapsed": false
   },
   "outputs": [
    {
     "data": {
      "image/png": "[encoded data removed]",
      "text/plain": [
       "<matplotlib.figure.Figure at 0x21eecb68b00>"
      ]
     },
     "metadata": {},
     "output_type": "display_data"
    }
   ],
   "source": [
    "hotel_class = [offering[offering.id==offid[0]].hotel_class.values[0] for offid in deceptive_positive_brands_ratio[:100]]\n",
    "ppf = pd.DataFrame({'stars':hotel_class}).groupby(['stars']).size()\n",
    "fig, ax = plt.subplots()\n",
    "\n",
    "index = np.arange(8)\n",
    "bar_width = 0.85\n",
    "opacity = 0.9\n",
    "\n",
    "rects1 = plt.bar(index, ppf, bar_width,\n",
    "                 alpha=opacity,\n",
    "                 color='blue')\n",
    "\n",
    "\n",
    "plt.title('Distribution of hotel-stars among the top 100 deceptive ratio hotels')\n",
    "plt.xticks(index + bar_width-0.35, ppf.index)\n",
    "plt.show()"
   ]
  },
  {
   "cell_type": "markdown",
   "metadata": {},
   "source": [
    "## Guiding Question 3)\n",
    "\n",
    "**Is there enough support to claim that deceptive positive reviews are used to cover previous negative reviews?**\n",
    "\n"
   ]
  },
  {
   "cell_type": "markdown",
   "metadata": {},
   "source": [
    "In this experiment I want to figure out what are the patterns that could lead to deceptive reviews. In particular I want to know if there is enough support for the claim that hotels purchase deceptive reviews after getting negative reviews in order push the negative reviews down.\n",
    "\n",
    "To answer this question, I use the GSP algorithm in Weka.\n",
    "\n",
    "To answer this question, I pick up 20 hotels that fit few criterias from the list of deceptive hotels.\n",
    "\n",
    "** Why sele 20 and not all hotels? **\n",
    "\n",
    "My first experiment was to try to run the experiment on all hotels, but the fact that many hotels has only 1 or 2 reviews made it hard to find enough support for frequent reviews. then I choose to pick top hotels with high number of deceptive reviews. the result was also misleading, because, in my list the hotels that have high number of positive reviews are famous 5-stars hotels that have thousands of positive reviews and it seems the number of positive deceptive reviews they have are due to chance of error in my classification model. ( for example one hotel that have more than 1000 positive 5 stars reviews, my model classify about 80 of them as deceptive. which is ~8%. this is likely because of the model error rather than true deceptive. My next try was to use the ratio instead of absolute values(like I use in previous question). The problem now was the top hotels(who have rate of 100% percent deceptive) and small, unpopular hotels with very small number of reviews, sometimes only 1 or 2. which made it impossible to fetch representative frequent sequences from them,\n",
    "\n",
    "so I pick up 20 reviews, from the middle of the list(not the highest nor the lowest rate) with a condition the hotel has exactly 2 or 3 deceptive reviews.and at least 20 reviews.\n",
    "\n"
   ]
  },
  {
   "cell_type": "code",
   "execution_count": 90,
   "metadata": {
    "collapsed": false
   },
   "outputs": [
    {
     "data": {
      "text/plain": [
       "771"
      ]
     },
     "execution_count": 90,
     "metadata": {},
     "output_type": "execute_result"
    }
   ],
   "source": [
    "import warnings\n",
    "warnings.filterwarnings('ignore')\n",
    "\n",
    "#choose 20 hotel with positive_deceptive_i in order to analyze the sequence pattern\n",
    "selected_hotel=rating_classification[rating_classification['class']==positive_deceptive_i].groupby(['offering_id']).size().sort_values(ascending=False)[-150:-130]\n",
    "selected_hotel_list=selected_hotel.index.tolist()\n",
    "selected_hotel_string = ','.join(str(e) for e in selected_hotel_list)\n",
    "\n",
    "export_data = rating_classification[rating_classification['offering_id'].isin(selected_hotel_list)]\n",
    "export_data.replace(to_replace={'class': {negative_deceptive_i: 'negative'}}, inplace=True)\n",
    "export_data.replace(to_replace={'class': {negative_truthful_i: 'negative'}}, inplace=True)\n",
    "export_data.replace(to_replace={'class': {positive_deceptive_i: 'deceptive_positive'}}, inplace=True)\n",
    "export_data.replace(to_replace={'class': {positive_truthful_i: 'positive'}}, inplace=True)\n",
    "len(export_data.index)"
   ]
  },
  {
   "cell_type": "code",
   "execution_count": 92,
   "metadata": {
    "collapsed": false
   },
   "outputs": [],
   "source": [
    "f = open('output2.arff', 'w')\n",
    "f.write(\"@relation review_class_seqential\\n\\n\")\n",
    "f.write(\"@attribute customer {\" + selected_hotel_string +\"}\\n\")\n",
    "f.write(\"@attribute 'rating' {rating=positive,rating=negative,rating=deceptive_positive}\\n\\n\")\n",
    "f.write(\"@data\\n\")\n",
    "\n",
    "for row in export_data.itertuples():\n",
    "    f.write(str(row[3]) + \",\" + \"rating=\" + row[1]+\"\\n\")\n"
   ]
  },
  {
   "cell_type": "markdown",
   "metadata": {},
   "source": [
    "As you can see above, the sequence id, which the algorithm used to define the window-frame is set to hotel id.\n",
    "\n",
    "each review is added in separate line, according to time, to follow the rules of GSP input file format.\n",
    "\n",
    "setting the max gap window frame identifier to hotel ids, guarantee us that reviews of different hotels won’t be mixed, according to the Weka book.\n",
    "\n",
    "“The input data must contain a special nominal attribute that groups transactions (instances) together in time. All instances with the same nominal sequence identifier are grouped together, defining a time window from which sequential patterns can be extracted The instances within each group are treated as occurring sequentially, in the order in which they appear in the data. Sequential large item sets, consisting of item combinations that occur across transactions sequentially within a group, are found that meet a user-supplied minimum-support threshold”\n",
    "\n",
    "In total there are 771 instances (reviews) belongs to 20 reviews. GSP will aggregated these reviews based on hotel id, so we will end up with 20 sequential list to extract frequent item sets.\n",
    "\n",
    "I’ve run the algorithm with -S 0.3 ( 30 % minimum support, In other words the sequence should occur in > 6 hotels. in order to be included in the list)"
   ]
  },
  {
   "cell_type": "markdown",
   "metadata": {},
   "source": [
    " <img src=\"images/image05.png\">"
   ]
  },
  {
   "cell_type": "markdown",
   "metadata": {},
   "source": [
    " <img src=\"gsp_30a.png\">"
   ]
  },
  {
   "cell_type": "markdown",
   "metadata": {},
   "source": [
    "#another selection\n",
    " <img src=\"gsp_30.png\">"
   ]
  },
  {
   "cell_type": "markdown",
   "metadata": {},
   "source": [
    "**Experiment steps:**\n",
    "1-choose 20 hotel from the hotels who have high ratio of deceptive positive.\n",
    "2-extract all reviews of these hotels, build arff (cell abovefile and run in weka\n",
    "\n",
    "- 2-sequences\n",
    "\n",
    "[1] <{rating=positive}{rating=positive}> (12)\n",
    "\n",
    "[2] <{rating=positive}{rating=negative}> (12)\n",
    "\n",
    "[3] <{rating=positive}{rating=deceptive_positive}> (14)\n",
    "\n",
    "[4] <{rating=negative}{rating=positive}> (13)\n",
    "\n",
    "[5] <{rating=negative}{rating=negative}> (15)\n",
    "\n",
    "[6] <{rating=negative}{rating=deceptive_positive}> (12)\n",
    "\n",
    "[7] <{rating=deceptive_positive}{rating=positive}> (11)\n",
    "\n",
    "\n",
    "- 3-sequences\n",
    "\n",
    "[1] <{rating=positive}{rating=deceptive_positive}{rating=positive}> (9)\n",
    "\n",
    "[2] <{rating=negative}{rating=negative}{rating=positive}> (10)\n",
    "\n",
    "[3] <{rating=negative}{rating=negative}{rating=negative}> (12)\n",
    "\n",
    "[4] <{rating=negative}{rating=negative}{rating=deceptive_positive}> (9)\n",
    "\n",
    "\n",
    "- 4-sequences\n",
    "\n",
    "[1] <{rating=negative}{rating=negative}{rating=negative}{rating=negative}> (9)\n",
    "\n",
    "\n"
   ]
  },
  {
   "cell_type": "markdown",
   "metadata": {},
   "source": [
    "# Guiding Question 4:\n",
    "** Would a 2-step approach based on domain knowledge (like the one presented on anomaly detection showcase) improve the accuracy of the text classification model?  could other topologies improve the performance of the algorithm? **\n",
    "\n",
    "http://web.cs.wpi.edu/~cs548/f16/Showcase/CS548F16_Showcase_Anomaly_Detection.pptx"
   ]
  },
  {
   "cell_type": "markdown",
   "metadata": {},
   "source": [
    "In this experiment, I want to try to improve the accuracy of the model built in the first experiment, The current model has an average F1-score of 0.84\n",
    "\n",
    "The first try is to try 2 steps model like the one presented on anomaly detection showcase and was effective in reducing false positive . The first step is unsupervised anomaly detector followed by supervised classification model.\n",
    "\n",
    "Screenshot from Anomaly detection showcase slides:\n",
    "\n",
    "<img src=\"images/image07.png\">\n",
    "\n",
    "in our case, even if it is outlier, we still need to run classification step to decide if it positive or negative\n",
    "\n",
    "<img src=\"images/image06.png\">\n"
   ]
  },
  {
   "cell_type": "markdown",
   "metadata": {},
   "source": [
    "**What features we could extract from the text for the anomaly detecion step?**\n",
    "\n",
    "In order to implement 2 steps model we need to decide:\n",
    "\n",
    "  ** 1. what features to extract from the text that could distinguish positive from truthful. **\n",
    "  \n",
    "  ** 2. what model to run first, the anomaly detector and 2nd step on outliers(deceptive), or the classification and second step on truthful. the former, in theory, will reduce false positive in the risk of increasing false negative as it give the outlier more chance to become non-outlier while the other is the opposite, gives the non-outlier a chance to become outlier **\n",
    "\n",
    "The featuers I choose to extract are based on article publish on Cornell univerity journal  http://bit.ly/2g6ou9X\n",
    "\n",
    "\"The researchers then applied computer analysis based on subtle features of text. Truthful hotel reviews, for example, are more likely to use concrete words relating to the hotel, like \"bathroom,\" \"check-in\" or \"price.\" Deceivers write more about things that set the scene, like \"vacation,\" \"business trip\" or \"my husband.\" Truth-tellers and deceivers also differ in the use of keywords referring to human behavior and personal life, and sometimes in features like the amount of punctuation or frequency of \"large words.\" In parallel with previous analysis of imaginative vs. informative writing, deceivers use more verbs and truth-tellers use more nouns.\"\n",
    "\n",
    "Features to extract from the review text:\n",
    "\n",
    "1)amount of punctuation\n",
    "\n",
    "2)total nouns - total verbs\n",
    "\n",
    "3)length of the review.\n",
    "\n",
    "4) adjective and adverbs ratio\n"
   ]
  },
  {
   "cell_type": "code",
   "execution_count": 97,
   "metadata": {
    "collapsed": false
   },
   "outputs": [],
   "source": [
    "import nltk\n",
    "#fit the anomly detection model using truthful reviews.\n",
    "data_set = dataset.data\n",
    "\n",
    "rev_length = [len(data) for data in data_set]\n",
    "tokens = [nltk.word_tokenize(data) for data in data_set]\n",
    "taggeds = [nltk.pos_tag(token,tagset='universal') for token in tokens] \n",
    "tag_fds = [nltk.FreqDist(tag for (word, tag) in tagged) for tagged in taggeds]\n",
    "totals = [tag_fd['ADJ'] + tag_fd['NOUN'] + tag_fd['PRON']+tag_fd['ADV']+tag_fd['VERB'] for tag_fd in tag_fds]\n",
    "# define featuers.\n",
    "punctuation_amount = [tag_fd['.'] for tag_fd in tag_fds]\n",
    "adv_adj_ratio = [(tag_fd['ADJ'] + tag_fd['ADV'])/total for tag_fd,total in zip(tag_fds,totals)]\n",
    "noun_ratio = [tag_fd['NOUN']/total for tag_fd,total in zip(tag_fds,totals)]\n",
    "verb_noun_diff = [tag_fd['VERB'] - tag_fd['NOUN'] for tag_fd in tag_fds]\n"
   ]
  },
  {
   "cell_type": "code",
   "execution_count": 105,
   "metadata": {
    "collapsed": false
   },
   "outputs": [],
   "source": [
    "from sklearn.svm import OneClassSVM\n",
    "# combine all extractd featuers in one data frame\n",
    "#features = {'length':rev_length,'punctuation_amount': punctuation_amount,'adv_adj_ratio': adv_adj_ratio,'noun_ratio': noun_ratio,'verb_noun_diff': verb_noun_diff}\n",
    "features = {'punctuation_amount': punctuation_amount,'adv_adj_ratio': adv_adj_ratio,'noun_ratio': noun_ratio,'verb_noun_diff': verb_noun_diff}\n",
    "df = pd.DataFrame(features)\n",
    "\n",
    "x_truthful_traning = df[(dataset.target==positive_truthful_i) | (dataset.target==negative_truthful_i)]\n",
    "\n",
    "anomly_detector = OneClassSVM()\n",
    "docs_train_1, docs_test_1 = train_test_split(\n",
    "    x_truthful_traning, test_size=0.10, random_state=None)\n",
    "\n",
    "anomly_detector.fit(docs_train_1)\n",
    "\n",
    "# we fit on 90% of the non-outliers and test on the whole including outliers.\n",
    "# the test include part of the training data! evulation may bias - Fix that later and test on docs_test.\n",
    "ad_predicted = anomly_detector.predict(df)\n",
    "\n",
    "# build the true target, mask truthful with 1 - not outlier, deceptive with -1, outliers.\n",
    "ture_target=[1 if (x==positive_truthful_i) | (x ==negative_truthful_i) else -1 for x in dataset.target]\n"
   ]
  },
  {
   "cell_type": "code",
   "execution_count": 99,
   "metadata": {
    "collapsed": false
   },
   "outputs": [
    {
     "name": "stdout",
     "output_type": "stream",
     "text": [
      "**Classification Report**\n",
      "\n",
      "             precision    recall  f1-score   support\n",
      "\n",
      "    outlier       0.61      1.00      0.76       801\n",
      "non-outlier       1.00      0.35      0.52       801\n",
      "\n",
      "avg / total       0.80      0.68      0.64      1602\n",
      "\n",
      "**Confusion Matrix**\n",
      "\n",
      "[[801   0]\n",
      " [518 283]]\n"
     ]
    }
   ],
   "source": [
    "# evalution for the anomly detection\n",
    "print(\"**Classification Report**\\n\")\n",
    "print(metrics.classification_report(ture_target, ad_predicted,target_names=['outlier','non-outlier']))\n",
    "\n",
    "# Print and plot the confusion matrix\n",
    "print(\"**Confusion Matrix**\\n\")\n",
    "cm = metrics.confusion_matrix(ture_target, ad_predicted)\n",
    "print(cm)\n"
   ]
  },
  {
   "cell_type": "markdown",
   "metadata": {},
   "source": [
    "** build 2 steps prediction model **\n",
    "\n",
    "one advantage of having unsupervised step is that we could train it with part of tripadvisor data too. The training data we have includes 800 reviews classified as deceptive.  With unsupervised step we can train the data on large number from tripadvisor(though we can’t use the novelty approach that I used here as the data will be already polluted with outliers). in this context I still use the same training/test data.\n",
    "\n",
    "which step to run first? anomaly detection or the text classifier?\n",
    "depends which error we want to reduce! the false positive or false negative,\n",
    "the orginal confusion matrix shows false positive ratio is higher than false negative. apprently the giving 2nd chance to deceptive to become truthful will give better result. anyway we will build the two models and then evaluote them\n"
   ]
  },
  {
   "cell_type": "code",
   "execution_count": 106,
   "metadata": {
    "collapsed": false
   },
   "outputs": [],
   "source": [
    "def extract_featuers(input_data):\n",
    "    rev_length = [len(data) for data in input_data]\n",
    "    tokens = [nltk.word_tokenize(data) for data in input_data]\n",
    "    taggeds = [nltk.pos_tag(token,tagset='universal') for token in tokens] \n",
    "    tag_fds = [nltk.FreqDist(tag for (word, tag) in tagged) for tagged in taggeds]\n",
    "    totals = [tag_fd['ADJ'] + tag_fd['NOUN'] + tag_fd['PRON']+tag_fd['ADV']+tag_fd['VERB'] for tag_fd in tag_fds]\n",
    "    punctuation_amount = [tag_fd['.'] for tag_fd in tag_fds]\n",
    "    adv_adj_ratio = [(tag_fd['ADJ'] + tag_fd['ADV'])/total for tag_fd,total in zip(tag_fds,totals)]\n",
    "    noun_ratio = [tag_fd['NOUN']/total for tag_fd,total in zip(tag_fds,totals)]\n",
    "    verb_noun_diff = [tag_fd['VERB'] - tag_fd['NOUN'] for tag_fd in tag_fds]\n",
    "    set_the_scene_words = [len(re.findall('vacation | business trip | my husband | star | my wife', data ,re.IGNORECASE)) for data in input_data]\n",
    "    #features = {'Length': rev_length,'punctuation_amount': punctuation_amount,'adv_adj_ratio': adv_adj_ratio,'noun_ratio': noun_ratio,'verb_noun_diff': verb_noun_diff,'set_the_scene_words':set_the_scene_words}\n",
    "    #features = {'Length': rev_length,'punctuation_amount': punctuation_amount,'adv_adj_ratio': adv_adj_ratio,'noun_ratio': noun_ratio,'verb_noun_diff': verb_noun_diff}\n",
    "    features = {'Length': rev_length,'punctuation_amount': punctuation_amount,'adv_adj_ratio': adv_adj_ratio,'noun_ratio': noun_ratio,'verb_noun_diff': verb_noun_diff}\n",
    "\n",
    "    return pd.DataFrame(features)\n",
    "\n",
    "# define featuers.\n",
    "def mask_deceptive(value):\n",
    "    if (value == negative_deceptive_i):\n",
    "        return negative_truthful_i\n",
    "    elif (value == positive_deceptive_i):\n",
    "        return positive_truthful_i\n",
    "    else:\n",
    "        return value\n",
    "\n",
    "def mask_truthful(value):\n",
    "    if (value == negative_truthful_i):\n",
    "        return negative_deceptive_i\n",
    "    elif (value == positive_truthful_i):\n",
    "        return positive_deceptive_i\n",
    "    else:\n",
    "        return value\n",
    "\n",
    "def ad_then_clf(input_data):\n",
    "    f = extract_featuers(input_data)\n",
    "    ad_result = anomly_detector.predict(f)\n",
    "    X_vect = TfidfVect.transform(input_data).toarray()\n",
    "    clf_result = clf.predict(X_vect)\n",
    "    # return the clf result if anomly return 1;\n",
    "    # if anomly detect -1 (outlier), mask the deceptive positive/negative with truthful positive/negative respectvely. \n",
    "    result=[cf if (ad==-1) else mask_deceptive(cf) for cf,ad in zip(clf_result,ad_result)]\n",
    "    return result\n",
    "\n",
    "def clf_then_ad(input_data):\n",
    "    f = extract_featuers(input_data)\n",
    "    ad_result = anomly_detector.predict(f)\n",
    "    X_vect = TfidfVect.transform(input_data).toarray()\n",
    "    clf_result = clf.predict(X_vect)\n",
    "    # return the clf result if it deceptive\n",
    "    # otherwise check if it's true outlier.\n",
    "    result=[cf if ((cf==negative_deceptive_i) | (cf==positive_deceptive_i)) else cf if (ad==1) else mask_truthful(cf) for cf,ad in zip(clf_result,ad_result)]\n",
    "    return result\n"
   ]
  },
  {
   "cell_type": "markdown",
   "metadata": {},
   "source": [
    "**Evalution of the two steps approaches**"
   ]
  },
  {
   "cell_type": "code",
   "execution_count": 103,
   "metadata": {
    "collapsed": false
   },
   "outputs": [],
   "source": [
    "# Creating new split will increse the risk of mixing test with traing data. use the original split in the 1st cell\n",
    "# two_steps_docs_train, two_steps_docs_test, two_steps_y_train, two_steps_y_test = train_test_split(\n",
    "#    dataset.data, dataset.target, test_size=0.10, random_state=None)\n",
    "\n",
    "# use origianl split to avoid mixing training data with test data.\n",
    "two_steps_docs_test = docs_test\n",
    "two_steps_y_test= y_test\n",
    "\n",
    "clf_then_ad_result = clf_then_ad(two_steps_docs_test)\n",
    "ad_then_clf_result = ad_then_clf(two_steps_docs_test)"
   ]
  },
  {
   "cell_type": "code",
   "execution_count": null,
   "metadata": {
    "collapsed": false,
    "scrolled": true
   },
   "outputs": [],
   "source": [
    "\n",
    "print(\"**Classification Report clf then ad**\\n\")\n",
    "print(metrics.classification_report(y_test, clf_then_ad_result,target_names=dataset.target_names))\n",
    "print(\"**Confusion Matrixclf then ad**\\n\")\n",
    "cm = metrics.confusion_matrix(y_test, clf_then_ad_result)\n",
    "print(cm)\n",
    "print(\"0: \" + dataset.target_names[0] + \"  1: \" + dataset.target_names[1])\n",
    "print(\"2: \" + dataset.target_names[2] + \"  3: \" + dataset.target_names[3]) \n",
    "plt.matshow(cm)\n",
    "plt.show()\n",
    "\n",
    "\n",
    "print(\"**Classification Report ad then clf **\\n\")\n",
    "print(metrics.classification_report(y_test, ad_then_clf_result,target_names=dataset.target_names))\n",
    "print(\"**Confusion Matrix ad then clf **\\n\")\n",
    "cm = metrics.confusion_matrix(y_test, ad_then_clf_result)\n",
    "print(cm)\n",
    "print(\"0: \" + dataset.target_names[0] + \"  1: \" + dataset.target_names[1])\n",
    "print(\"2: \" + dataset.target_names[2] + \"  3: \" + dataset.target_names[3]) \n",
    "plt.matshow(cm)\n",
    "plt.show()"
   ]
  },
  {
   "cell_type": "markdown",
   "metadata": {},
   "source": [
    "\n",
    "** The result was disappointed, even the good fit of anomaly detector followed by text classifier is misleading, what happen that AD identifies all outliers as outliers, the final result was for the classification model. actually the evaluation of it is identical to single text classification step. **"
   ]
  },
  {
   "cell_type": "markdown",
   "metadata": {
    "collapsed": true
   },
   "source": [
    "### Try other topology to improve classficaiton - 2nd try:\n",
    "\n",
    "** One supervised model for both bag of words and content-based features.**\n",
    "\n",
    "one advantage of having unsupervised step is that we could train it with part of TripAdvisor data too which is not labeled. but as we see. the unsupervised model didn’t give good result on the spam-opinion data. the chance it would work well on TripAdvisor data is very small.\n",
    "\n",
    "In this try,Instead of having unsupervised step for the content-based features, I will merge the extracted features to the bags of words, and run one single supervised text classification model based on all features.\n",
    "\n",
    "call to extract_text_features will end up contacting both bag of words and text based features defined in previous section together "
   ]
  },
  {
   "cell_type": "code",
   "execution_count": 153,
   "metadata": {
    "collapsed": true
   },
   "outputs": [],
   "source": [
    "def extract_ngram_1_3_features(Vect,input_data):\n",
    "    XInput = Vect.transform(input_data).toarray()\n",
    "    return pd.DataFrame(XInput)\n",
    "\n",
    "def extract_text_features(Vect, input_data):\n",
    "    df1= extract_featuers(input_data)\n",
    "    df2= extract_ngram_1_3_features(Vect,input_data)\n",
    "    ## extract_ngram (1 3) features\n",
    "    result = pd.concat([df1, df2], axis=1, join='inner')\n",
    "    return result\n",
    "\n",
    "# split to training and test - 90%-10%\n",
    "gq4_docs_train, gq4_docs_test, gq4_y_train, gq4_y_test = train_test_split(\n",
    "    dataset.data, dataset.target, test_size=0.10, random_state=None)\n"
   ]
  },
  {
   "cell_type": "code",
   "execution_count": 190,
   "metadata": {
    "collapsed": false,
    "scrolled": true
   },
   "outputs": [
    {
     "name": "stdout",
     "output_type": "stream",
     "text": [
      "**Classification Report**\n",
      "\n",
      "                    precision    recall  f1-score   support\n",
      "\n",
      "negative_deceptive       0.86      0.80      0.83        46\n",
      " negative_truthful       0.76      0.74      0.75        35\n",
      "positive_deceptive       0.92      0.90      0.91        40\n",
      " positive_truthful       0.82      0.93      0.87        40\n",
      "\n",
      "       avg / total       0.85      0.84      0.84       161\n",
      "\n",
      "**Confusion Matrix**\n",
      "\n",
      "[[37  6  2  1]\n",
      " [ 5 26  0  4]\n",
      " [ 0  1 36  3]\n",
      " [ 1  1  1 37]]\n"
     ]
    },
    {
     "data": {
      "image/png": "[encoded data removed]",
      "text/plain": [
       "<matplotlib.figure.Figure at 0x21e8925ae48>"
      ]
     },
     "metadata": {},
     "output_type": "display_data"
    }
   ],
   "source": [
    "# try integreate the text based featuers in the classficaiton. \n",
    "min_df=3\n",
    "max_df=0.96\n",
    "ngram_range = (1,3) \n",
    "gq4_TfidfVect = TfidfVectorizer(min_df = min_df, max_df = max_df, ngram_range = ngram_range).fit(gq4_docs_train)\n",
    "\n",
    "gq4_Xtrain=extract_text_features(gq4_TfidfVect, gq4_docs_train)\n",
    "gq4_Xtest=extract_text_features(gq4_TfidfVect, gq4_docs_test)\n",
    "gq4_clf  = LinearSVC(C=100)\n",
    "\n",
    "gq4_clf.fit(gq4_Xtrain, gq4_y_train)\n",
    "\n",
    "gq4_y_predicted = gq4_clf.predict(gq4_Xtest)\n",
    "\n",
    "print(\"**Classification Report**\\n\")\n",
    "print(metrics.classification_report(gq4_y_test,gq4_y_predicted,target_names=dataset.target_names))\n",
    "print(\"**Confusion Matrix**\\n\")\n",
    "cm = metrics.confusion_matrix(gq4_y_test, gq4_y_predicted)\n",
    "print(cm)\n",
    "\n",
    "plt.matshow(cm)\n",
    "plt.show()"
   ]
  },
  {
   "cell_type": "markdown",
   "metadata": {},
   "source": [
    "### Try other topology to improve classficaiton - 3rd try:\n",
    "<img src=\"images/image01.png\">\n",
    "\n",
    "\n",
    "In this approach, I will build 2 models, one to distinguish positive from negative, and the other will distinguish deceptive from truthful. the former will be based on bag of words text classifier. and the other will use the content based features we had already extracted. The motivation of this approach is that these features described in the article as distinguishable between descriptive and truthful reviews but not between positive and negative.  \n",
    "\n",
    "In the following cell, I have masked both negative truthful/deceptive  with single label, negative. and so on for the positive truthful/deceptive. then built a classification model to distinguish positive from negative.\n",
    "\n"
   ]
  },
  {
   "cell_type": "code",
   "execution_count": 191,
   "metadata": {
    "collapsed": true
   },
   "outputs": [],
   "source": [
    "negative_i = 0\n",
    "positive_i = 2\n",
    "\n",
    "deceptive_i=0\n",
    "truthful_i=1"
   ]
  },
  {
   "cell_type": "code",
   "execution_count": null,
   "metadata": {
    "collapsed": true
   },
   "outputs": [],
   "source": []
  },
  {
   "cell_type": "code",
   "execution_count": 192,
   "metadata": {
    "collapsed": false
   },
   "outputs": [
    {
     "name": "stdout",
     "output_type": "stream",
     "text": [
      "**Classification Report**\n",
      "\n",
      "             precision    recall  f1-score   support\n",
      "\n",
      "   Negative       0.96      0.90      0.93        81\n",
      "   Positive       0.91      0.96      0.93        80\n",
      "\n",
      "avg / total       0.93      0.93      0.93       161\n",
      "\n",
      "**Confusion Matrix**\n",
      "\n",
      "[[73  8]\n",
      " [ 3 77]]\n"
     ]
    },
    {
     "data": {
      "image/png": "[encoded data removed]",
      "text/plain": [
       "<matplotlib.figure.Figure at 0x21e847ce470>"
      ]
     },
     "metadata": {},
     "output_type": "display_data"
    }
   ],
   "source": [
    "pos_neg_y_train = np.copy(gq4_y_train)\n",
    "pos_neg_y_test=np.copy(gq4_y_test)\n",
    "\n",
    "pos_neg_y_train[pos_neg_y_train==negative_truthful_i]=negative_i\n",
    "pos_neg_y_train[pos_neg_y_train==negative_deceptive_i]=negative_i\n",
    "pos_neg_y_train[pos_neg_y_train==positive_deceptive_i]=positive_i\n",
    "pos_neg_y_train[pos_neg_y_train==positive_truthful_i]=positive_i\n",
    "\n",
    "pos_neg_y_test[pos_neg_y_test==negative_truthful_i]=negative_i\n",
    "pos_neg_y_test[pos_neg_y_test==negative_deceptive_i]=negative_i\n",
    "pos_neg_y_test[pos_neg_y_test==positive_deceptive_i]=positive_i\n",
    "pos_neg_y_test[pos_neg_y_test==positive_truthful_i]=positive_i\n",
    "\n",
    "pos_neg_Xtrain=gq4_TfidfVect.transform(gq4_docs_train).toarray()\n",
    "pos_neg_Xtest=gq4_TfidfVect.transform(gq4_docs_test).toarray()\n",
    "\n",
    "pos_neg_clf  = LinearSVC(C=100)\n",
    "\n",
    "pos_neg_clf.fit(pos_neg_Xtrain, pos_neg_y_train)\n",
    "pos_neg_y_predicted = pos_neg_clf.predict(pos_neg_Xtest)\n",
    "\n",
    "print(\"**Classification Report**\\n\")\n",
    "print(metrics.classification_report(pos_neg_y_test,pos_neg_y_predicted,target_names=['Negative','Positive']))\n",
    "print(\"**Confusion Matrix**\\n\")\n",
    "cm = metrics.confusion_matrix(pos_neg_y_test, pos_neg_y_predicted)\n",
    "print(cm)\n",
    "\n",
    "plt.matshow(cm)\n",
    "plt.show()"
   ]
  },
  {
   "cell_type": "markdown",
   "metadata": {},
   "source": [
    "**As we can see the model has a high precision in distinguishing the positive reviews from negative ones.**"
   ]
  },
  {
   "cell_type": "markdown",
   "metadata": {},
   "source": [
    "In the following cell, I have masked both negative and positive deceptive  with single label, deceptive. and so on for negative and positive  truthful. then built a classification model to distinguish deceptive from truthful"
   ]
  },
  {
   "cell_type": "code",
   "execution_count": 193,
   "metadata": {
    "collapsed": false,
    "scrolled": true
   },
   "outputs": [
    {
     "name": "stdout",
     "output_type": "stream",
     "text": [
      "**Classification Report**\n",
      "\n",
      "             precision    recall  f1-score   support\n",
      "\n",
      "  Deceptive       0.92      0.90      0.91        86\n",
      "   Truthful       0.88      0.91      0.89        75\n",
      "\n",
      "avg / total       0.90      0.90      0.90       161\n",
      "\n",
      "**Confusion Matrix**\n",
      "\n",
      "[[77  9]\n",
      " [ 7 68]]\n"
     ]
    },
    {
     "data": {
      "image/png": "[encoded data removed]",
      "text/plain": [
       "<matplotlib.figure.Figure at 0x21e8a0fe780>"
      ]
     },
     "metadata": {},
     "output_type": "display_data"
    }
   ],
   "source": [
    "des_truthful_y_train = np.copy(gq4_y_train)\n",
    "des_truthful_y_test=np.copy(gq4_y_test)\n",
    "\n",
    "des_truthful_y_train[des_truthful_y_train==negative_deceptive_i]=deceptive_i\n",
    "des_truthful_y_train[des_truthful_y_train==positive_deceptive_i]=deceptive_i\n",
    "des_truthful_y_train[des_truthful_y_train==negative_truthful_i]=truthful_i\n",
    "des_truthful_y_train[des_truthful_y_train==positive_truthful_i]=truthful_i\n",
    "\n",
    "des_truthful_y_test[des_truthful_y_test==negative_deceptive_i]=deceptive_i\n",
    "des_truthful_y_test[des_truthful_y_test==positive_deceptive_i]=deceptive_i\n",
    "des_truthful_y_test[des_truthful_y_test==positive_deceptive_i]=truthful_i\n",
    "des_truthful_y_test[des_truthful_y_test==positive_truthful_i]=truthful_i\n",
    "\n",
    "\n",
    "#gq4_Xtrain=gq4_TfidfVect.transform(gq4_docs_train).toarray()\n",
    "#gq4_Xtest=gq4_TfidfVect.transform(gq4_docs_test).toarray()\n",
    "\n",
    "des_truthful_Xtrain=extract_text_features(gq4_TfidfVect, gq4_docs_train)\n",
    "des_truthful_Xtest=extract_text_features(gq4_TfidfVect, gq4_docs_test)\n",
    "\n",
    "des_truthful_clf  = LinearSVC(C=100)\n",
    "des_truthful_clf.fit(des_truthful_Xtrain, des_truthful_y_train)\n",
    "des_truthful_y_predicted = des_truthful_clf.predict(des_truthful_Xtest)\n",
    "\n",
    "print(\"**Classification Report**\\n\")\n",
    "print(metrics.classification_report(des_truthful_y_test,des_truthful_y_predicted,target_names=['Deceptive','Truthful']))\n",
    "print(\"**Confusion Matrix**\\n\")\n",
    "cm = metrics.confusion_matrix(des_truthful_y_test, des_truthful_y_predicted)\n",
    "print(cm)\n",
    "\n",
    "plt.matshow(cm)\n",
    "plt.show()\n"
   ]
  },
  {
   "cell_type": "markdown",
   "metadata": {},
   "source": [
    "** build 2 levels classification model - check pos/neg, deceptive,truthful separately and merge the result** \n",
    "** Only the deceptive,truthful model will use the text based featuers(extract_text_features) defined in cornell article.**"
   ]
  },
  {
   "cell_type": "markdown",
   "metadata": {},
   "source": [
    "negative_deceptive_i = 0\n",
    "\n",
    "negative_truthful_i = 1\n",
    "\n",
    "positive_deceptive_i = 2\n",
    "\n",
    "positive_truthful_i= 3\n",
    "\n",
    "negative_i = 0\n",
    "\n",
    "positive_i = 2\n",
    "\n",
    "deceptive_i=0\n",
    "\n",
    "truthful_i=1\n",
    "\n",
    "** the split was arranged such as final result could be taken from the sum of the two results. for example positive_truthful_i = truthful_i + positive_i **\n",
    "\n"
   ]
  },
  {
   "cell_type": "code",
   "execution_count": 195,
   "metadata": {
    "collapsed": false
   },
   "outputs": [
    {
     "name": "stdout",
     "output_type": "stream",
     "text": [
      "**Classification Report**\n",
      "\n",
      "                    precision    recall  f1-score   support\n",
      "\n",
      "negative_deceptive       0.91      0.93      0.92        42\n",
      " negative_truthful       0.85      0.85      0.85        34\n",
      "positive_deceptive       0.97      0.90      0.94        42\n",
      " positive_truthful       0.89      0.93      0.91        43\n",
      "\n",
      "       avg / total       0.91      0.91      0.91       161\n",
      "\n",
      "**Confusion Matrix**\n",
      "\n",
      "[[39  3  0  0]\n",
      " [ 2 29  0  3]\n",
      " [ 2  0 38  2]\n",
      " [ 0  2  1 40]]\n"
     ]
    },
    {
     "data": {
      "image/png": "[encoded data removed]",
      "text/plain": [
       "<matplotlib.figure.Figure at 0x21e88bcf588>"
      ]
     },
     "metadata": {},
     "output_type": "display_data"
    }
   ],
   "source": [
    "# see note above, sum two result from both prediction to get the last one.\n",
    "# To do define function that run both result and sum them, for this context, I will use the result directly \n",
    "# from the previous cells\n",
    "final_result = pos_neg_y_predicted + des_truthful_y_predicted\n",
    "\n",
    "\n",
    "print(\"**Classification Report**\\n\")\n",
    "print(metrics.classification_report(final_result,gq4_y_predicted,target_names=dataset.target_names))\n",
    "print(\"**Confusion Matrix**\\n\")\n",
    "cm = metrics.confusion_matrix(final_result, gq4_y_predicted)\n",
    "print(cm)\n",
    "\n",
    "plt.matshow(cm)\n",
    "plt.show()\n"
   ]
  },
  {
   "cell_type": "markdown",
   "metadata": {
    "collapsed": true
   },
   "source": [
    "# We achieved 7% improvement in average (from 84% to 91%)."
   ]
  },
  {
   "cell_type": "code",
   "execution_count": null,
   "metadata": {
    "collapsed": true
   },
   "outputs": [],
   "source": []
  }
 ],
 "metadata": {
  "anaconda-cloud": {},
  "celltoolbar": "Raw Cell Format",
  "kernelspec": {
   "display_name": "Python [conda root]",
   "language": "python",
   "name": "conda-root-py"
  },
  "language_info": {
   "codemirror_mode": {
    "name": "ipython",
    "version": 3
   },
   "file_extension": ".py",
   "mimetype": "text/x-python",
   "name": "python",
   "nbconvert_exporter": "python",
   "pygments_lexer": "ipython3",
   "version": "3.5.2"
  }
 },
 "nbformat": 4,
 "nbformat_minor": 0
}
