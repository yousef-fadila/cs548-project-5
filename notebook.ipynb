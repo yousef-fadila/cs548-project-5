{
 "cells": [
  {
   "cell_type": "markdown",
   "metadata": {
    "collapsed": true
   },
   "source": [
    "# Project 5 : CS548 - Text Mining: Spot Deceptive TripAdvisor Hotel's Reviews\n",
    "\n",
    "** http://web.cs.wpi.edu/~cs548/f16/Projects/Project5/ **\n",
    "\n",
    "** By: Yousef Fadila ** "
   ]
  },
  {
   "cell_type": "markdown",
   "metadata": {},
   "source": [
    "# Guiding Quesions:\n",
    "\n",
    "\n"
   ]
  },
  {
   "cell_type": "markdown",
   "metadata": {},
   "source": [
    "Training data:\n",
    "-- Deceptive Opinion Spam Corpus v1.4 - downloaded from http://myleott.com/op_spam/\n",
    "\n",
    "Examination data:\n",
    "--  TripAdvisor reviews downloaded from http://myleott.com/op_spam/"
   ]
  },
  {
   "cell_type": "code",
   "execution_count": 31,
   "metadata": {
    "collapsed": true
   },
   "outputs": [],
   "source": [
    "# Global Import\n",
    "import sys\n",
    "from sklearn.feature_extraction.text import TfidfVectorizer\n",
    "from sklearn.svm import LinearSVC\n",
    "from sklearn.pipeline import Pipeline\n",
    "from sklearn.model_selection import GridSearchCV\n",
    "from sklearn.datasets import load_files\n",
    "from sklearn.model_selection import train_test_split\n",
    "from sklearn import metrics\n",
    "import pandas as pd\n",
    "import numpy as np\n",
    "import matplotlib.pylab as py\n",
    "import matplotlib.pyplot as plt\n",
    "import scipy\n",
    "from IPython.display import HTML\n",
    "from datetime import datetime\n",
    "from sklearn.svm import LinearSVC\n",
    "from sklearn.neighbors import KNeighborsClassifier\n",
    "lastRunTime = datetime.now().strftime('%Y-%m-%d %H:%M:%S')\n",
    "import re\n",
    "from sklearn import tree\n",
    "import json\n",
    "%matplotlib inline"
   ]
  },
  {
   "cell_type": "code",
   "execution_count": 5,
   "metadata": {
    "collapsed": false
   },
   "outputs": [
    {
     "name": "stdout",
     "output_type": "stream",
     "text": [
      "n_samples: 1602\n",
      "Done: 2016-12-03 00:24:30\n"
     ]
    }
   ],
   "source": [
    "# load training data: load Deceptive Opinion Spam Corpus\n",
    "dataset = load_files('training-data', encoding='utf-8', decode_error='replace',shuffle=False)\n",
    "print(\"n_samples: %d\" % len(dataset.data))\n",
    "\n",
    "print(\"Done: \" + lastRunTime)"
   ]
  },
  {
   "cell_type": "code",
   "execution_count": 28,
   "metadata": {
    "collapsed": false
   },
   "outputs": [
    {
     "name": "stdout",
     "output_type": "stream",
     "text": [
      "Xtrain:(1441, 22411)\n",
      "Xtest:(161, 22411)\n",
      "Done: 2016-12-03 01:02:34\n"
     ]
    }
   ],
   "source": [
    "# split the dataset in training and test set:\n",
    "docs_train, docs_test, y_train, y_test = train_test_split(\n",
    "    dataset.data, dataset.target, test_size=0.10, random_state=None)\n",
    "min_df=3\n",
    "max_df=0.96\n",
    "# ngram (1,3) gives better percsion than 1,2 and 1,4 doesn't improve accuracy. \n",
    "ngram_range = (1,3) \n",
    "TfidfVect= TfidfVectorizer(min_df = min_df, max_df = max_df, ngram_range = ngram_range).fit(docs_train)\n",
    "Xtrain = TfidfVect.transform(docs_train).toarray()\n",
    "print(\"Xtrain:\" + str(Xtrain.shape))\n",
    "Xtest = TfidfVect.transform(docs_test).toarray()\n",
    "print(\"Xtest:\" + str(Xtest.shape))\n",
    "\n",
    "#clf = tree.DecisionTreeClassifier()\n",
    "clf  = LinearSVC(C=1000)\n",
    "\n",
    "clf.fit(Xtrain, y_train)\n",
    "y_predicted = clf.predict(Xtest)\n",
    "\n",
    "print(\"Done: \" + lastRunTime)"
   ]
  },
  {
   "cell_type": "code",
   "execution_count": 29,
   "metadata": {
    "collapsed": false,
    "scrolled": true
   },
   "outputs": [
    {
     "name": "stdout",
     "output_type": "stream",
     "text": [
      "**Classification Report**\n",
      "\n",
      "                    precision    recall  f1-score   support\n",
      "\n",
      "negative_deceptive       0.88      0.86      0.87        44\n",
      " negative_truthful       0.89      0.84      0.86        49\n",
      "positive_deceptive       0.89      0.78      0.83        32\n",
      " positive_truthful       0.77      0.94      0.85        36\n",
      "\n",
      "       avg / total       0.86      0.86      0.86       161\n",
      "\n",
      "**Confusion Matrix**\n",
      "\n",
      "[[38  5  1  0]\n",
      " [ 5 41  0  3]\n",
      " [ 0  0 25  7]\n",
      " [ 0  0  2 34]]\n",
      "0: negative_deceptive  1: negative_truthful\n",
      "2: positive_deceptive  3: positive_truthful\n"
     ]
    },
    {
     "data": {
      "image/png": "[encoded data removed]",
      "text/plain": [
       "<matplotlib.figure.Figure at 0x22241b69128>"
      ]
     },
     "metadata": {},
     "output_type": "display_data"
    },
    {
     "name": "stdout",
     "output_type": "stream",
     "text": [
      "Done: 2016-12-03 01:02:34\n"
     ]
    }
   ],
   "source": [
    "# Print the classification report\n",
    "print(\"**Classification Report**\\n\")\n",
    "print(metrics.classification_report(y_test, y_predicted,\n",
    "                                    target_names=dataset.target_names))\n",
    "\n",
    "# Print and plot the confusion matrix\n",
    "print(\"**Confusion Matrix**\\n\")\n",
    "cm = metrics.confusion_matrix(y_test, y_predicted)\n",
    "print(cm)\n",
    "\n",
    "# lets print the target array so we could know which index refer to positive or negative.\n",
    "print(\"0: \" + dataset.target_names[0] + \"  1: \" + dataset.target_names[1])\n",
    "print(\"2: \" + dataset.target_names[2] + \"  3: \" + dataset.target_names[3]) \n",
    "plt.matshow(cm)\n",
    "plt.show()\n",
    "\n",
    "print(\"Done: \" + lastRunTime)"
   ]
  },
  {
   "cell_type": "markdown",
   "metadata": {},
   "source": [
    "** Load Tripadvisor reviews **"
   ]
  },
  {
   "cell_type": "code",
   "execution_count": 53,
   "metadata": {
    "collapsed": false
   },
   "outputs": [
    {
     "name": "stdout",
     "output_type": "stream",
     "text": [
      "79\n"
     ]
    }
   ],
   "source": [
    "#reviews_file = 'reviews.txt'\n",
    "#reviews_file = 'reviews_reduced.txt' \n",
    "#reviews_file = 'reviews_sample.txt' \n",
    "reviews_file = 'reviews_mini.txt' \n",
    "reviews = [json.loads(line) for line in open(reviews_file)]\n",
    "\n",
    "print(len(reviews))"
   ]
  },
  {
   "cell_type": "code",
   "execution_count": 57,
   "metadata": {
    "collapsed": false
   },
   "outputs": [],
   "source": [
    "reviews_text = [review['text'] for review in reviews]\n",
    "reviews_rating = [review['ratings']['overall'] for review in reviews]"
   ]
  },
  {
   "cell_type": "code",
   "execution_count": 59,
   "metadata": {
    "collapsed": true
   },
   "outputs": [],
   "source": [
    "reviews_pd = {'text': reviews_text,'rating': reviews_rating}\n",
    "df = pd.DataFrame(reviews_pd)\n"
   ]
  },
  {
   "cell_type": "code",
   "execution_count": 61,
   "metadata": {
    "collapsed": true
   },
   "outputs": [],
   "source": [
    "Xdata = TfidfVect.transform(df['text']).toarray()"
   ]
  },
  {
   "cell_type": "code",
   "execution_count": 63,
   "metadata": {
    "collapsed": false
   },
   "outputs": [],
   "source": [
    "Xdata_predicted = clf.predict(Xdata)"
   ]
  },
  {
   "cell_type": "code",
   "execution_count": 64,
   "metadata": {
    "collapsed": false
   },
   "outputs": [
    {
     "data": {
      "text/plain": [
       "array([3, 3, 3, 3, 1, 3, 3, 3, 3, 3, 2, 3, 3, 3, 0, 3, 3, 3, 1, 3, 3, 3, 1,\n",
       "       3, 3, 3, 3, 3, 3, 1, 3, 3, 3, 3, 3, 3, 1, 3, 1, 3, 3, 3, 3, 3, 0, 2,\n",
       "       1, 3, 3, 3, 3, 2, 3, 1, 3, 3, 3, 2, 1, 0, 3, 1, 3, 3, 3, 1, 3, 2, 3,\n",
       "       3, 3, 3, 3, 3, 3, 1, 1, 3, 2])"
      ]
     },
     "execution_count": 64,
     "metadata": {},
     "output_type": "execute_result"
    }
   ],
   "source": [
    "Xdata_predicted"
   ]
  },
  {
   "cell_type": "code",
   "execution_count": null,
   "metadata": {
    "collapsed": true
   },
   "outputs": [],
   "source": []
  }
 ],
 "metadata": {
  "anaconda-cloud": {},
  "kernelspec": {
   "display_name": "Python [conda root]",
   "language": "python",
   "name": "conda-root-py"
  },
  "language_info": {
   "codemirror_mode": {
    "name": "ipython",
    "version": 3
   },
   "file_extension": ".py",
   "mimetype": "text/x-python",
   "name": "python",
   "nbconvert_exporter": "python",
   "pygments_lexer": "ipython3",
   "version": "3.5.2"
  }
 },
 "nbformat": 4,
 "nbformat_minor": 0
}
